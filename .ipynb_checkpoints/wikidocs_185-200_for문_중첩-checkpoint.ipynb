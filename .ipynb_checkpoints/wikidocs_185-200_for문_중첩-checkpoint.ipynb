{
 "cells": [
  {
   "cell_type": "markdown",
   "id": "526fd9d4-0d21-424e-abb9-ee5e4919db31",
   "metadata": {},
   "source": [
    "## for 문 중첩_1"
   ]
  },
  {
   "cell_type": "markdown",
   "id": "baa89084-dc9e-4c40-abff-bdcbeeaf2e3d",
   "metadata": {},
   "source": [
    "# 185\n",
    "# 리스트에 저장된 데이터를 아래와 같이 출력하라.\n",
    "# 101 호\n",
    "# 102 호\n",
    "# 201 호\n",
    "# 202 호\n",
    "# 301 호\n",
    "# 302 호\n",
    "\n",
    "apart = [ [101, 102], [201, 202], [301, 302] ]\n",
    "for row in apart:\n",
    "    for col in row:\n",
    "        print(col,'호')"
   ]
  },
  {
   "cell_type": "code",
   "execution_count": 2,
   "id": "e07ac3f7-b592-4f46-9ace-2ab5429aa774",
   "metadata": {},
   "outputs": [
    {
     "name": "stdout",
     "output_type": "stream",
     "text": [
      "301 호\n",
      "302 호\n",
      "201 호\n",
      "202 호\n",
      "101 호\n",
      "102 호\n"
     ]
    }
   ],
   "source": [
    "# 186\n",
    "# 리스트에 저장된 데이터를 아래와 같이 출력하라.\n",
    "# 301 호\n",
    "# 302 호\n",
    "# 201 호\n",
    "# 202 호\n",
    "# 101 호\n",
    "# 102 호\n",
    "\n",
    "apart = [ [101, 102], [201, 202], [301, 302] ]\n",
    "for x in apart[::-1]:\n",
    "    for y in x:\n",
    "        print(y,'호')\n",
    "        "
   ]
  },
  {
   "cell_type": "markdown",
   "id": "82d97b4c-3e4e-40f1-b83a-f676284b4058",
   "metadata": {},
   "source": [
    "# 187\n",
    "# 리스트에 저장된 데이터를 아래와 같이 출력하라.\n",
    "# 302 호\n",
    "# 301 호\n",
    "# 202 호\n",
    "# 201 호\n",
    "# 102 호\n",
    "# 101 호\n",
    "\n",
    "apart = [ [101, 102], [201, 202], [301, 302] ]\n",
    "for row in apart[::-1]:\n",
    "    for col in row[::-1]:\n",
    "        print(col, '호')"
   ]
  },
  {
   "cell_type": "code",
   "execution_count": 5,
   "id": "a15c33a6-72e8-46ff-8d8b-eb3f9ecb736c",
   "metadata": {},
   "outputs": [
    {
     "name": "stdout",
     "output_type": "stream",
     "text": [
      "101 호\n",
      "-----\n",
      "102 호\n",
      "-----\n",
      "201 호\n",
      "-----\n",
      "202 호\n",
      "-----\n",
      "301 호\n",
      "-----\n",
      "302 호\n",
      "-----\n"
     ]
    }
   ],
   "source": [
    "# 188\n",
    "# 리스트에 저장된 데이터를 아래와 같이 출력하라.\n",
    "\n",
    "# 101 호\n",
    "# -----\n",
    "# 102 호\n",
    "# -----\n",
    "# 201 호\n",
    "# -----\n",
    "# 202 호\n",
    "# -----\n",
    "# 301 호\n",
    "# -----\n",
    "# 302 호\n",
    "# -----\n",
    "\n",
    "apart = [ [101, 102], [201, 202], [301, 302] ]\n",
    "for row in apart:\n",
    "    for col in row:\n",
    "        print(col, '호')\n",
    "        print('-' * 5)"
   ]
  },
  {
   "cell_type": "code",
   "execution_count": 6,
   "id": "fe673ab4-f748-418b-89c5-c0fc6b55f6fe",
   "metadata": {},
   "outputs": [
    {
     "name": "stdout",
     "output_type": "stream",
     "text": [
      "101 호\n",
      "102 호\n",
      "-----\n",
      "201 호\n",
      "202 호\n",
      "-----\n",
      "301 호\n",
      "302 호\n",
      "-----\n"
     ]
    }
   ],
   "source": [
    "# 189\n",
    "# 리스트에 저장된 데이터를 아래와 같이 출력하라.\n",
    "\n",
    "# 101 호\n",
    "# 102 호\n",
    "# -----\n",
    "# 201 호\n",
    "# 202 호\n",
    "# -----\n",
    "# 301 호\n",
    "# 302 호\n",
    "# -----\n",
    "\n",
    "apart = [ [101, 102], [201, 202], [301, 302] ]\n",
    "for row in apart:\n",
    "    for col in row:\n",
    "        print(col, '호')\n",
    "    print('-' * 5)"
   ]
  },
  {
   "cell_type": "code",
   "execution_count": 7,
   "id": "31d678c7-ea55-4093-912c-9f3aa56e2c37",
   "metadata": {},
   "outputs": [
    {
     "name": "stdout",
     "output_type": "stream",
     "text": [
      "101 호\n",
      "102 호\n",
      "201 호\n",
      "202 호\n",
      "301 호\n",
      "302 호\n",
      "-----\n"
     ]
    }
   ],
   "source": [
    "# 190\n",
    "# 리스트에 저장된 데이터를 아래와 같이 출력하라.\n",
    "# 101 호\n",
    "# 102 호\n",
    "# 201 호\n",
    "# 202 호\n",
    "# 301 호\n",
    "# 302 호\n",
    "# -----\n",
    "\n",
    "apart = [ [101, 102], [201, 202], [301, 302] ]\n",
    "for row in apart:\n",
    "    for col in row:\n",
    "        print(col, '호')\n",
    "print('-' * 5)"
   ]
  },
  {
   "cell_type": "markdown",
   "id": "495d576d-6685-4be8-8262-7a33440e91ee",
   "metadata": {},
   "source": [
    "## for문 중첩_2"
   ]
  },
  {
   "cell_type": "code",
   "execution_count": 11,
   "id": "6660c9e3-f724-40f2-8784-f417c927cfab",
   "metadata": {},
   "outputs": [
    {
     "name": "stdout",
     "output_type": "stream",
     "text": [
      "2000.28\n",
      "3050.427\n",
      "2050.287\n",
      "1980.2772\n",
      "7501.05\n",
      "2050.287\n",
      "2050.287\n",
      "1980.2772\n",
      "15452.163\n",
      "15052.107\n",
      "15552.177\n",
      "14902.086\n"
     ]
    }
   ],
   "source": [
    "# 191\n",
    "# data에는 매수한 종목들의 OHLC (open/high/low/close) 가격 정보가 바인딩 되어있다.\n",
    "# 수수료를 0.014 %로 가정할 때, 각 가격에 수수료를 포함한 가격을 한라인에 하나씩 출력하라.\n",
    "\n",
    "\n",
    "data = [[ 2000,  3050,  2050,  1980],\n",
    "    [7500,  2050,  2050,  1980],\n",
    "    [15450, 15050, 15550, 14900]]\n",
    "\n",
    "for row in data:\n",
    "    for col in row:\n",
    "        print(col + (col * 14/100000))"
   ]
  },
  {
   "cell_type": "code",
   "execution_count": 12,
   "id": "c8b7f608-6297-4921-a657-dc2cbf7886f9",
   "metadata": {},
   "outputs": [
    {
     "name": "stdout",
     "output_type": "stream",
     "text": [
      "2000.28\n",
      "3050.427\n",
      "2050.287\n",
      "1980.2772\n",
      "-------\n",
      "7501.05\n",
      "2050.287\n",
      "2050.287\n",
      "1980.2772\n",
      "-------\n",
      "15452.163\n",
      "15052.107\n",
      "15552.177\n",
      "14902.086\n",
      "-------\n"
     ]
    }
   ],
   "source": [
    "# 192\n",
    "# 191번의 출력 결과에 행단위로 \"----\" 구분자를 추가하라.\n",
    "\n",
    "data = [[ 2000,  3050,  2050,  1980],\n",
    "    [7500,  2050,  2050,  1980],\n",
    "    [15450, 15050, 15550, 14900]]\n",
    "\n",
    "for row in data:\n",
    "    for col in row:\n",
    "        print(col + (col * 14/100000))\n",
    "    print('-' * 7)"
   ]
  },
  {
   "cell_type": "code",
   "execution_count": 16,
   "id": "ec82fe4d-37c6-4a19-9be3-1fd6ffbb9245",
   "metadata": {},
   "outputs": [
    {
     "name": "stdout",
     "output_type": "stream",
     "text": [
      "[2000.28, 3050.427, 2050.287, 1980.2772, 7501.05, 2050.287, 2050.287, 1980.2772, 15452.163, 15052.107, 15552.177, 14902.086]\n"
     ]
    }
   ],
   "source": [
    "# 193\n",
    "# 192 번 문제의 결괏값을 result 이름의 리스트에 1차원 배열로 저장하라.\n",
    "\n",
    "data = [[ 2000,  3050,  2050,  1980],\n",
    "    [7500,  2050,  2050,  1980],\n",
    "    [15450, 15050, 15550, 14900]]\n",
    "\n",
    "result = []\n",
    "for row in data:\n",
    "    for col in row:\n",
    "        result.append(col + (col * 14/100000))\n",
    "\n",
    "print(result)"
   ]
  },
  {
   "cell_type": "markdown",
   "id": "4936e74f-7ae8-4aca-9d09-f55501ad4167",
   "metadata": {},
   "source": [
    "# 194\n",
    "# 191번 문제의 결괏값을 result 이름의 리스트에 2차원 배열로 저장하라. 저장 포맷은 아래와 같다.\n",
    "# 각 행에 대한 데이터끼리 리스트에 저장되어야 한다.\n",
    "\n",
    "data = [[ 2000,  3050,  2050,  1980],\n",
    "    [7500,  2050,  2050,  1980],\n",
    "    [15450, 15050, 15550, 14900]]\n",
    "\n",
    "result = []\n",
    "\n",
    "for row in data:\n",
    "    sub = []    # => 위치 주의!!! 항상 위에서 아래로 차례대로 내려간다.\n",
    "    for col in row:\n",
    "        sub.append(col * 1.00014)\n",
    "    result.append(sub)\n",
    "\n",
    "result"
   ]
  },
  {
   "cell_type": "markdown",
   "id": "317c2447-bc2a-45b7-b315-90fad6249f8f",
   "metadata": {},
   "source": [
    "# 195\n",
    "# ohlc 리스트에는 시가(open), 고가 (high), 저가 (low) , 종가(close)가 날짜별로 저장돼 있다. \n",
    "# 화면에 종가데이터를 출력하라.\n",
    "\n",
    "ohlc = [[\"open\", \"high\", \"low\", \"close\"],\n",
    "        [100, 110, 70, 100],\n",
    "        [200, 210, 180, 190],\n",
    "        [300, 310, 300, 310]]\n",
    "\n",
    "for row in ohlc[1:]:\n",
    "    print(row[-1])"
   ]
  },
  {
   "cell_type": "code",
   "execution_count": 26,
   "id": "e403d6be-00ae-45e1-8575-2a300dd64d4a",
   "metadata": {},
   "outputs": [
    {
     "name": "stdout",
     "output_type": "stream",
     "text": [
      "190\n",
      "310\n"
     ]
    }
   ],
   "source": [
    "# 196\n",
    "# ohlc 리스트에는 시가(open), 고가 (high), 저가 (low) , 종가(close)가 날짜별로 저장돼 있다. \n",
    "# 종가가 150원보다 큰경우에만 종가를 출력하라.\n",
    "\n",
    "ohlc = [[\"open\", \"high\", \"low\", \"close\"],\n",
    "        [100, 110, 70, 100],\n",
    "        [200, 210, 180, 190],\n",
    "        [300, 310, 300, 310]]\n",
    "\n",
    "for raw in ohlc[1:]:\n",
    "    if raw[-1] > 150:\n",
    "        print(raw[-1])"
   ]
  },
  {
   "cell_type": "code",
   "execution_count": 30,
   "id": "6196679c-a950-4279-ab70-654bfdeb99a8",
   "metadata": {},
   "outputs": [
    {
     "name": "stdout",
     "output_type": "stream",
     "text": [
      "100\n",
      "310\n"
     ]
    }
   ],
   "source": [
    "# 197\n",
    "# ohlc 리스트에는 시가(open), 고가 (high), 저가 (low) , 종가(close)가 날짜별로 저장돼 있다. \n",
    "# 종가가 시가 보다 크거나 같은 경우에만 종가를 출력하라.\n",
    "\n",
    "ohlc = [[\"open\", \"high\", \"low\", \"close\"],\n",
    "        [100, 110, 70, 100],\n",
    "        [200, 210, 180, 190],\n",
    "        [300, 310, 300, 310]]\n",
    "\n",
    "for row in ohlc[1:]:\n",
    "    if row[-1] >=  row[0]:\n",
    "        print(row[-1])"
   ]
  },
  {
   "cell_type": "markdown",
   "id": "3f06a02b-0434-49d2-af8b-f5d5a428783c",
   "metadata": {},
   "source": [
    "# 198\n",
    "# ohlc 리스트에는 시가(open), 고가 (high), 저가 (low) , 종가(close)가 날짜별로 저장돼 있다. \n",
    "# 고가와 저가의 차이를 변동폭으로 정의할 때 변동폭을 volatility 이름의 리스트에 저장하라.\n",
    "\n",
    "ohlc = [[\"open\", \"high\", \"low\", \"close\"],\n",
    "        [100, 110, 70, 100],\n",
    "        [200, 210, 180, 190],\n",
    "        [300, 310, 300, 310]]\n",
    "\n",
    "volatility = []\n",
    "\n",
    "for row in ohlc[1:]:\n",
    "    volatility.append(row[1] - row[2])\n",
    "print(volatility)"
   ]
  },
  {
   "cell_type": "code",
   "execution_count": 32,
   "id": "e682effc-8618-4431-a711-9ac5556273f0",
   "metadata": {},
   "outputs": [
    {
     "name": "stdout",
     "output_type": "stream",
     "text": [
      "[40, 30, 10]\n"
     ]
    }
   ],
   "source": [
    "# 198 -1\n",
    "\n",
    "ohlc = [[\"open\", \"high\", \"low\", \"close\"],\n",
    "        [100, 110, 70, 100],\n",
    "        [200, 210, 180, 190],\n",
    "        [300, 310, 300, 310]]\n",
    "\n",
    "volatility = []\n",
    "for i in range(1, len(ohlc)):\n",
    "    volatility.append(ohlc[i][1] - ohlc[i][2])\n",
    "print(volatility)"
   ]
  },
  {
   "cell_type": "code",
   "execution_count": 33,
   "id": "3dab7684-ea75-4027-bccc-b1879978b63c",
   "metadata": {},
   "outputs": [
    {
     "name": "stdout",
     "output_type": "stream",
     "text": [
      "10\n"
     ]
    }
   ],
   "source": [
    "# 199\n",
    "# 리스트에는 3일 간의 ohlc 데이터가 저장돼 있다. \n",
    "# 종가가 시가보다 높은 날의 변동성 (고가 - 저가)을 화면에 출력하라.\n",
    "# 종가가 시가보다 높은 거래일의 OHLC는 [300, 310, 300, 310] 이다. \n",
    "# 따라서 이 거래일의 변동성은 10 (310 - 300)이다.\n",
    "\n",
    "ohlc = [[\"open\", \"high\", \"low\", \"close\"],\n",
    "        [100, 110, 70, 100],\n",
    "        [200, 210, 180, 190],\n",
    "        [300, 310, 300, 310]]\n",
    "\n",
    "for row in ohlc[1:]:\n",
    "    if row[-1] > row[0]:\n",
    "        print(row[1]-row[2])"
   ]
  },
  {
   "cell_type": "code",
   "execution_count": 36,
   "id": "282c9814-9e9c-4b33-89bb-36afb7aa961d",
   "metadata": {},
   "outputs": [
    {
     "data": {
      "text/plain": [
       "0"
      ]
     },
     "execution_count": 36,
     "metadata": {},
     "output_type": "execute_result"
    }
   ],
   "source": [
    "# 200\n",
    "# 리스트에는 3일 간의 ohlc 데이터가 저장돼 있다. \n",
    "# 시가에 매수해서 종가에 매도 했을 경우 총 수익금을 계산하라.\n",
    "# 1일차 수익 0원 (100 - 100), 2일차 수익 -10원 (190 - 200), 3일차 수익 10원 (310 - 300) 이다.\n",
    "\n",
    "ohlc = [[\"open\", \"high\", \"low\", \"close\"],\n",
    "        [100, 110, 70, 100],\n",
    "        [200, 210, 180, 190],\n",
    "        [300, 310, 300, 310]]\n",
    "\n",
    "profit = 0\n",
    "for row in ohlc[1:]:\n",
    "    profit += row[-1] - row[0]\n",
    "\n",
    "profit"
   ]
  },
  {
   "cell_type": "code",
   "execution_count": null,
   "id": "ded78bba-3597-4024-b55a-146d823897f2",
   "metadata": {},
   "outputs": [],
   "source": []
  }
 ],
 "metadata": {
  "kernelspec": {
   "display_name": "Python 3 (ipykernel)",
   "language": "python",
   "name": "python3"
  },
  "language_info": {
   "codemirror_mode": {
    "name": "ipython",
    "version": 3
   },
   "file_extension": ".py",
   "mimetype": "text/x-python",
   "name": "python",
   "nbconvert_exporter": "python",
   "pygments_lexer": "ipython3",
   "version": "3.11.6"
  }
 },
 "nbformat": 4,
 "nbformat_minor": 5
}
