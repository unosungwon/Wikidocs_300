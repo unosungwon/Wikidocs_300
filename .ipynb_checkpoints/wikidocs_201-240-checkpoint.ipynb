{
 "cells": [
  {
   "cell_type": "code",
   "execution_count": 1,
   "id": "ad6fdb60-9644-4d13-9f5b-1a6559f11082",
   "metadata": {},
   "outputs": [],
   "source": [
    "# 201\n",
    "# \"비트코인\" 문자열을 화면에 출력하는 print_coin() 함수를 정의하라.\n",
    "\n",
    "def print_coin():\n",
    "    print('bitcoin')"
   ]
  },
  {
   "cell_type": "code",
   "execution_count": 2,
   "id": "59ccce7a-7e72-462e-b51f-a5cae99c6e04",
   "metadata": {},
   "outputs": [
    {
     "name": "stdout",
     "output_type": "stream",
     "text": [
      "bitcoin\n"
     ]
    }
   ],
   "source": [
    "# 202\n",
    "# 201번에서 정의한 함수를 호출하라.\n",
    "\n",
    "print_coin()"
   ]
  },
  {
   "cell_type": "markdown",
   "id": "7c60c39b-9917-4965-ad1b-b48983e08cee",
   "metadata": {},
   "source": [
    "# 203\n",
    "# 201번에서 정의한 print_coin 함수를 100번호출하라.\n",
    "\n",
    "for x in range(100):\n",
    "    print_coin()"
   ]
  },
  {
   "cell_type": "markdown",
   "id": "4c2a0ffc-1413-42f4-91eb-53b02d554854",
   "metadata": {},
   "source": [
    "# 204\n",
    "# \"비트코인\" 문자열을 100번 화면에 출력하는 print_coins() 함수를 정의하라.\n",
    "\n",
    "def print_coins():\n",
    "    for x in range(100):\n",
    "        print('bitcoin')"
   ]
  },
  {
   "cell_type": "code",
   "execution_count": 6,
   "id": "c8f29e3c-1eeb-4f76-a2fc-662084e9ac4d",
   "metadata": {},
   "outputs": [],
   "source": [
    "# 205\n",
    "# 아래의 에러가 발생하는 이유에 대해 설명하라.\n",
    "\n",
    "# hello()\n",
    "# def hello():\n",
    "#     print(\"Hi\")\n",
    "# 실행 예\n",
    "\n",
    "# NameError: name 'hello' is not defined\n",
    "\n",
    "# 함수 정의가 먼저 되어야함."
   ]
  },
  {
   "cell_type": "code",
   "execution_count": 7,
   "id": "67c2ecec-e5ec-4ace-814c-e0a86c2e98b6",
   "metadata": {},
   "outputs": [
    {
     "name": "stdout",
     "output_type": "stream",
     "text": [
      "A\n",
      "B\n",
      "C\n",
      "A\n",
      "B\n"
     ]
    }
   ],
   "source": [
    "# 206\n",
    "# 아래 코드의 실행 결과를 예측하라.\n",
    "\n",
    "def message() :\n",
    "    print(\"A\")\n",
    "    print(\"B\")\n",
    "\n",
    "message()\n",
    "print(\"C\")\n",
    "message()"
   ]
  },
  {
   "cell_type": "code",
   "execution_count": 9,
   "id": "89c0fa47-80a9-4c23-aa04-f85bfefb0fd2",
   "metadata": {},
   "outputs": [
    {
     "name": "stdout",
     "output_type": "stream",
     "text": [
      "A\n",
      "C\n",
      "B\n"
     ]
    }
   ],
   "source": [
    "# 207\n",
    "# 아래 코드의 실행 결과를 예측하라. (읽기 어려운 코드의 예입니다.)\n",
    "\n",
    "print(\"A\")\n",
    "\n",
    "def message() :\n",
    "    print(\"B\")\n",
    "\n",
    "print(\"C\")\n",
    "message()"
   ]
  },
  {
   "cell_type": "code",
   "execution_count": 10,
   "id": "d46fa96e-8807-47f2-927e-578e1a387562",
   "metadata": {},
   "outputs": [
    {
     "name": "stdout",
     "output_type": "stream",
     "text": [
      "A\n",
      "C\n",
      "B\n",
      "E\n",
      "D\n"
     ]
    }
   ],
   "source": [
    "# 208\n",
    "# 아래 코드의 실행 결과를 예측하라. (읽기 어려운 코드의 예입니다.)\n",
    "\n",
    "print(\"A\")\n",
    "def message1() :\n",
    "    print(\"B\")\n",
    "print(\"C\")\n",
    "def message2() :\n",
    "    print(\"D\")\n",
    "message1()\n",
    "print(\"E\")\n",
    "message2()"
   ]
  },
  {
   "cell_type": "code",
   "execution_count": 11,
   "id": "049b5645-fb9a-48ff-bc71-8c2b16b06236",
   "metadata": {},
   "outputs": [
    {
     "name": "stdout",
     "output_type": "stream",
     "text": [
      "B\n",
      "A\n"
     ]
    }
   ],
   "source": [
    "# 209\n",
    "# 아래 코드의 실행 결과를 예측하라.\n",
    "\n",
    "def message1():\n",
    "    print(\"A\")\n",
    "\n",
    "def message2():\n",
    "    print(\"B\")\n",
    "    message1()\n",
    "\n",
    "message2()\n",
    "\n",
    "# B\n",
    "# A"
   ]
  },
  {
   "cell_type": "code",
   "execution_count": 12,
   "id": "05c40d7a-267c-4b2a-9d48-0cfab2bc4eb8",
   "metadata": {},
   "outputs": [
    {
     "name": "stdout",
     "output_type": "stream",
     "text": [
      "B\n",
      "C\n",
      "B\n",
      "C\n",
      "B\n",
      "C\n",
      "A\n"
     ]
    }
   ],
   "source": [
    "# 210\n",
    "# 아래 코드의 실행 결과를 예측하라.\n",
    "\n",
    "def message1():\n",
    "    print(\"A\")\n",
    "\n",
    "def message2():\n",
    "    print(\"B\")\n",
    "\n",
    "def message3():\n",
    "    for i in range (3) :\n",
    "        message2()\n",
    "        print(\"C\")\n",
    "    message1()\n",
    "\n",
    "message3()\n"
   ]
  },
  {
   "cell_type": "code",
   "execution_count": 13,
   "id": "8804cb68-cb99-417d-b4f8-b06b607b8346",
   "metadata": {},
   "outputs": [
    {
     "name": "stdout",
     "output_type": "stream",
     "text": [
      "안녕\n",
      "Hi\n"
     ]
    }
   ],
   "source": [
    "# 211\n",
    "# 함수의 호출 결과를 예측하라.\n",
    "\n",
    "def 함수(문자열) :\n",
    "    print(문자열)\n",
    "\n",
    "함수(\"안녕\")\n",
    "함수(\"Hi\")"
   ]
  },
  {
   "cell_type": "code",
   "execution_count": 14,
   "id": "f076ba3f-bd2d-4e2d-9e4d-a48d976590b2",
   "metadata": {},
   "outputs": [
    {
     "name": "stdout",
     "output_type": "stream",
     "text": [
      "7\n",
      "15\n"
     ]
    }
   ],
   "source": [
    "# 212\n",
    "# 함수의 호출 결과를 예측하라.\n",
    "\n",
    "def func(a, b) :\n",
    "    print(a + b)\n",
    "\n",
    "func(3, 4)\n",
    "func(7, 8)"
   ]
  },
  {
   "cell_type": "code",
   "execution_count": 15,
   "id": "6312604c-ecb8-447f-bebe-8004d26c7d35",
   "metadata": {},
   "outputs": [
    {
     "ename": "TypeError",
     "evalue": "func() missing 1 required positional argument: '문자열'",
     "output_type": "error",
     "traceback": [
      "\u001b[1;31m---------------------------------------------------------------------------\u001b[0m",
      "\u001b[1;31mTypeError\u001b[0m                                 Traceback (most recent call last)",
      "Cell \u001b[1;32mIn[15], line 7\u001b[0m\n\u001b[0;32m      4\u001b[0m \u001b[38;5;28;01mdef\u001b[39;00m \u001b[38;5;21mfunc\u001b[39m(문자열) :\n\u001b[0;32m      5\u001b[0m     \u001b[38;5;28mprint\u001b[39m(문자열)\n\u001b[1;32m----> 7\u001b[0m \u001b[43mfunc\u001b[49m\u001b[43m(\u001b[49m\u001b[43m)\u001b[49m\n\u001b[0;32m      9\u001b[0m \u001b[38;5;66;03m# TypeError: 함수() missing 1 required positional argument: '문자열'\u001b[39;00m\n\u001b[0;32m     10\u001b[0m \n\u001b[0;32m     11\u001b[0m \u001b[38;5;66;03m# 필수인자(파라미터) 1개가 없음. \u001b[39;00m\n",
      "\u001b[1;31mTypeError\u001b[0m: func() missing 1 required positional argument: '문자열'"
     ]
    }
   ],
   "source": [
    "# 213\n",
    "# 아래와 같은 에러가 발생하는 원인을 설명하라.\n",
    "\n",
    "def func(문자열) :\n",
    "    print(문자열)\n",
    "    \n",
    "func()\n",
    "\n",
    "# TypeError: 함수() missing 1 required positional argument: '문자열'\n",
    "\n",
    "# 필수인자(파라미터) 1개가 없음. "
   ]
  },
  {
   "cell_type": "code",
   "execution_count": 16,
   "id": "1fd43aaa-6abc-4179-bab4-4a1d8d939c00",
   "metadata": {},
   "outputs": [
    {
     "ename": "TypeError",
     "evalue": "can only concatenate str (not \"int\") to str",
     "output_type": "error",
     "traceback": [
      "\u001b[1;31m---------------------------------------------------------------------------\u001b[0m",
      "\u001b[1;31mTypeError\u001b[0m                                 Traceback (most recent call last)",
      "Cell \u001b[1;32mIn[16], line 7\u001b[0m\n\u001b[0;32m      4\u001b[0m \u001b[38;5;28;01mdef\u001b[39;00m \u001b[38;5;21mfunc\u001b[39m(a, b) :\n\u001b[0;32m      5\u001b[0m     \u001b[38;5;28mprint\u001b[39m(a \u001b[38;5;241m+\u001b[39m b)\n\u001b[1;32m----> 7\u001b[0m \u001b[43mfunc\u001b[49m\u001b[43m(\u001b[49m\u001b[38;5;124;43m\"\u001b[39;49m\u001b[38;5;124;43m안녕\u001b[39;49m\u001b[38;5;124;43m\"\u001b[39;49m\u001b[43m,\u001b[49m\u001b[43m \u001b[49m\u001b[38;5;241;43m3\u001b[39;49m\u001b[43m)\u001b[49m\n\u001b[0;32m      9\u001b[0m \u001b[38;5;66;03m# TypeError: must be str, not int\u001b[39;00m\n",
      "Cell \u001b[1;32mIn[16], line 5\u001b[0m, in \u001b[0;36mfunc\u001b[1;34m(a, b)\u001b[0m\n\u001b[0;32m      4\u001b[0m \u001b[38;5;28;01mdef\u001b[39;00m \u001b[38;5;21mfunc\u001b[39m(a, b) :\n\u001b[1;32m----> 5\u001b[0m     \u001b[38;5;28mprint\u001b[39m(\u001b[43ma\u001b[49m\u001b[43m \u001b[49m\u001b[38;5;241;43m+\u001b[39;49m\u001b[43m \u001b[49m\u001b[43mb\u001b[49m)\n",
      "\u001b[1;31mTypeError\u001b[0m: can only concatenate str (not \"int\") to str"
     ]
    }
   ],
   "source": [
    "# 214\n",
    "# 아래와 같은 에러가 발생하는 원인을 설명하라.\n",
    "\n",
    "def func(a, b) :\n",
    "    print(a + b)\n",
    "\n",
    "func(\"안녕\", 3)\n",
    "\n",
    "# TypeError: must be str, not int"
   ]
  },
  {
   "cell_type": "code",
   "execution_count": 17,
   "id": "66c9d084-633e-4685-9d42-f095db0d995e",
   "metadata": {},
   "outputs": [],
   "source": [
    "# 215\n",
    "# 하나의 문자를 입력받아 문자열 끝에 \n",
    "# \":D\" 스마일 문자열을 이어 붙여 출력하는 print_with_smile 함수를 정의하라.\n",
    "\n",
    "def print_with_smile(a):\n",
    "    print(f'{a}:D')"
   ]
  },
  {
   "cell_type": "code",
   "execution_count": 18,
   "id": "f4d82edb-07bc-4046-96a6-4e462034de9b",
   "metadata": {},
   "outputs": [
    {
     "name": "stdout",
     "output_type": "stream",
     "text": [
      "안녕하세요:D\n"
     ]
    }
   ],
   "source": [
    "# 216\n",
    "# 215에서 정의한 함수를 호출하라. 파라미터는 \"안녕하세요\"로 입력하라.\n",
    "\n",
    "def print_with_smile(a):\n",
    "    print(f'{a}:D')\n",
    "\n",
    "print_with_smile('안녕하세요')"
   ]
  },
  {
   "cell_type": "markdown",
   "id": "0437da4c-484d-434c-8339-49afca9a2973",
   "metadata": {},
   "source": [
    "# 217\n",
    "# 현재 가격을 입력 받아 상한가 (30%)를 출력하는 print_upper_price 함수를 정의하라.\n",
    "\n",
    "def print_upper_price(price):\n",
    "    print(price * 1.3)"
   ]
  },
  {
   "cell_type": "code",
   "execution_count": 20,
   "id": "4f7d33e0-5221-44cc-a207-2b0ee98940b7",
   "metadata": {},
   "outputs": [],
   "source": [
    "# 218\n",
    "# 두 개의 숫자를 입력받아 두 수의 합을 출력하는 print_sum 함수를 정의하라.\n",
    "\n",
    "def print_sum(x, y):\n",
    "    print(x + y)"
   ]
  },
  {
   "cell_type": "code",
   "execution_count": 22,
   "id": "d070f39c-2257-48ee-9d43-70b7a3f92d14",
   "metadata": {},
   "outputs": [],
   "source": [
    "# 219\n",
    "# 두 개의 숫자를 입력받아 합/차/곱/나눗셈을 출력하는 print_arithmetic_operation 함수를 작성하라.\n",
    "# 3 + 4 = 7\n",
    "# 3 - 4 = -1\n",
    "# 3 * 4 = 12\n",
    "# 3 / 4 = 0.75\n",
    "\n",
    "def print_arithmetic_operation(x, y):\n",
    "    print(f'{x}+{y} = {x + y}')\n",
    "    print(f'{x}-{y} = {x - y}')\n",
    "    print(f'{x}*{y} = {x * y}')\n",
    "    print(f'{x}/{y} = {x / y}')"
   ]
  },
  {
   "cell_type": "markdown",
   "id": "cd511bc7-a8b9-42db-bb18-80663efcc80d",
   "metadata": {},
   "source": [
    "# 220\n",
    "# 세 개의 숫자를 입력받아 가장 큰수를 출력하는 print_max 함수를 정의하라. \n",
    "# 단 if 문을 사용해서 수를 비교하라.\n",
    "\n",
    "def print_max(x, y, z):\n",
    "    max_val = 0\n",
    "    if x > max_val:\n",
    "        max_val = x\n",
    "    if max_val < y:\n",
    "        max_val = y\n",
    "    if max_val < z:\n",
    "        max_val = z\n",
    "    print(max_val)\n",
    "\n",
    "print_max(3,10,2)"
   ]
  },
  {
   "cell_type": "code",
   "execution_count": 29,
   "id": "28bee3e6-278e-4253-a752-1942f77e9298",
   "metadata": {},
   "outputs": [],
   "source": [
    "# 221\n",
    "# 입력된 문자열을 역순으로 출력하는 print_reverse 함수를 정의하라.\n",
    "\n",
    "def print_reverse(string):\n",
    "    print(string[::-1])"
   ]
  },
  {
   "cell_type": "code",
   "execution_count": 30,
   "id": "a1702384-1b8f-4f61-af0a-5a5fdc33744a",
   "metadata": {},
   "outputs": [],
   "source": [
    "# 222\n",
    "# 성적 리스트를 입력 받아 평균을 출력하는 print_score 함수를 정의하라.\n",
    "# print_score ([1, 2, 3])\n",
    "# 2.0\n",
    "\n",
    "def print_score(score_list):\n",
    "    print(sum(score_list) / len(score_list))"
   ]
  },
  {
   "cell_type": "code",
   "execution_count": 31,
   "id": "907eced6-9cb9-469b-a3f3-6092526fafaf",
   "metadata": {},
   "outputs": [],
   "source": [
    "# 223\n",
    "# 하나의 리스트를 입력받아 짝수만 화면에 출력하는 print_even 함수를 정의하라.\n",
    "\n",
    "# print_even ([1, 3, 2, 10, 12, 11, 15])\n",
    "# 2\n",
    "# 10\n",
    "# 12\n",
    "\n",
    "def print_even(list):\n",
    "    for num in list:\n",
    "        if num % 2 == 0:\n",
    "            print(num)"
   ]
  },
  {
   "cell_type": "code",
   "execution_count": 35,
   "id": "a3b842f6-7f2c-4964-827d-e9bf7fe5b3ba",
   "metadata": {},
   "outputs": [
    {
     "name": "stdout",
     "output_type": "stream",
     "text": [
      "이름\n",
      "나이\n",
      "성별\n"
     ]
    }
   ],
   "source": [
    "# 224\n",
    "# 하나의 딕셔너리를 입력받아 딕셔너리의 key 값을 화면에 출력하는 print_keys 함수를 정의하라.\n",
    "\n",
    "# print_keys ({\"이름\":\"김말똥\", \"나이\":30, \"성별\":0})\n",
    "# 이름\n",
    "# 나이\n",
    "# 성별\n",
    "\n",
    "def print_keys(dictionary):\n",
    "    for k in dictionary.keys():\n",
    "        print(k)\n",
    "\n",
    "print_keys ({\"이름\":\"김말똥\", \"나이\":30, \"성별\":0})"
   ]
  },
  {
   "cell_type": "code",
   "execution_count": 36,
   "id": "46ff1611-243c-4c66-99a9-342e7130b762",
   "metadata": {},
   "outputs": [
    {
     "name": "stdout",
     "output_type": "stream",
     "text": [
      "[100, 130, 100, 100]\n"
     ]
    }
   ],
   "source": [
    "# 225\n",
    "# my_dict에는 날짜를 키값으로 OHLC가 리스트로 저장돼 있다.\n",
    "\n",
    "# my_dict = {\"10/26\" : [100, 130, 100, 100],\n",
    "#            \"10/27\" : [10, 12, 10, 11]}\n",
    "\n",
    "# my_dict와 날짜 키값을 입력받아 OHLC 리스트를 출력하는 print_value_by_key 함수를 정의하라.\n",
    "\n",
    "# print_value_by_key  (my_dict, \"10/26\")\n",
    "# [100, 130, 100, 100]\n",
    "\n",
    "my_dict = {\"10/26\" : [100, 130, 100, 100], \"10/27\" : [10, 12, 10, 11]}\n",
    "\n",
    "def print_value_by_key(dict, date):\n",
    "    print(dict[date])\n",
    "\n",
    "print_value_by_key  (my_dict, \"10/26\")"
   ]
  },
  {
   "cell_type": "markdown",
   "id": "4dbc55ff-fd4e-48c4-86f4-0a455a07714a",
   "metadata": {},
   "source": [
    "# n개씩 잘라서 보고 싶다.\n",
    "* for i in range( int ( len ( string ) / n ) ):\n",
    "*      print(string [i * n : (i * n) + n] )"
   ]
  },
  {
   "cell_type": "markdown",
   "id": "7c577997-0c3d-4e4e-b5e3-a8037373da37",
   "metadata": {},
   "source": [
    "# 226\n",
    "# 입력 문자열을 한 줄에 다섯글자씩 출력하는 print_5xn(string) 함수를 작성하라.\n",
    "\n",
    "# print_5xn(\"아이엠어보이유알어걸들\")\n",
    "# 아이엠어보\n",
    "# 이유알어걸\n",
    "\n",
    "def print_5xn(string):\n",
    "    chunk_num = int(len(string) / 5)\n",
    "    for x in range(chunk_num + 1):\n",
    "        print(string[x * 5 : (x * 5) + 5])\n",
    "\n",
    "print_5xn(\"아이엠어보이유알어걸들\")"
   ]
  },
  {
   "cell_type": "markdown",
   "id": "277606c4-f8cf-4754-9574-658619a204c5",
   "metadata": {},
   "source": [
    "# 227\n",
    "# 문자열과 한줄에 출력될 글자 수를 입력을 받아 \n",
    "# 한 줄에 입력된 글자 수만큼 출력하는 print_mxn(string) 함수를 작성하라.\n",
    "\n",
    "# printmxn(\"아이엠어보이유알어걸\", 3)\n",
    "# 아이엠\n",
    "# 어보이\n",
    "# 유알어\n",
    "# 걸\n",
    "\n",
    "def printmxn(string, n):\n",
    "    for i in range( int(len(string) / n) + 1):\n",
    "        print(string[i * n: (i * n) + n])\n",
    "\n",
    "printmxn(\"아이엠어보이유알어걸\", 4)"
   ]
  },
  {
   "cell_type": "code",
   "execution_count": 45,
   "id": "e650d191-9596-49fa-955a-d9955f926c4f",
   "metadata": {},
   "outputs": [
    {
     "data": {
      "text/plain": [
       "1000000"
      ]
     },
     "execution_count": 45,
     "metadata": {},
     "output_type": "execute_result"
    }
   ],
   "source": [
    "# 228\n",
    "# 연봉을 입력받아 월급을 계산하는 calc_monthly_salary(annual_salary) 함수를 정의하라.\n",
    "# 회사는 연봉을 12개월로 나누어 분할 지급하며, 이 때 1원 미만은 버림한다.\n",
    "# calc_monthly_salary(12000000)\n",
    "# 1000000\n",
    "\n",
    "def calc_monthly_salary(annual_salary):\n",
    "    return int(annual_salary / 12)\n",
    "\n",
    "calc_monthly_salary(12000000)"
   ]
  },
  {
   "cell_type": "markdown",
   "id": "ffdf4897-f03f-4628-bea7-67f6540013c6",
   "metadata": {},
   "source": [
    "# 229\n",
    "# 아래 코드의 실행 결과를 예측하라.\n",
    "\n",
    "def my_print (a, b) :\n",
    "    print(\"왼쪽:\", a)\n",
    "    print(\"오른쪽:\", b)\n",
    "\n",
    "my_print(a=100, b=200)   # 변수에 바인딩 한 것임. 명시적으로 표현한 코드. "
   ]
  },
  {
   "cell_type": "markdown",
   "id": "f0b62777-5b5e-4bc3-a476-b2a20766f2e6",
   "metadata": {},
   "source": [
    "# 230\n",
    "# 아래 코드의 실행 결과를 예측하라.\n",
    "\n",
    "def my_print (a, b) :\n",
    "    print(\"왼쪽:\", a)\n",
    "    print(\"오른쪽:\", b)\n",
    "\n",
    "my_print(b=100, a=200)"
   ]
  },
  {
   "cell_type": "code",
   "execution_count": 50,
   "id": "c4d5abf2-b16d-4ba5-8167-371766af8636",
   "metadata": {},
   "outputs": [
    {
     "ename": "NameError",
     "evalue": "name 'result' is not defined",
     "output_type": "error",
     "traceback": [
      "\u001b[1;31m---------------------------------------------------------------------------\u001b[0m",
      "\u001b[1;31mNameError\u001b[0m                                 Traceback (most recent call last)",
      "Cell \u001b[1;32mIn[50], line 8\u001b[0m\n\u001b[0;32m      5\u001b[0m     result \u001b[38;5;241m=\u001b[39m n \u001b[38;5;241m+\u001b[39m \u001b[38;5;241m1\u001b[39m\n\u001b[0;32m      7\u001b[0m n_plus_1(\u001b[38;5;241m3\u001b[39m)\n\u001b[1;32m----> 8\u001b[0m \u001b[38;5;28mprint\u001b[39m(\u001b[43mresult\u001b[49m)\n",
      "\u001b[1;31mNameError\u001b[0m: name 'result' is not defined"
     ]
    }
   ],
   "source": [
    "# 231\n",
    "# 아래 코드를 실행한 결과를 예상하라.\n",
    "\n",
    "def n_plus_1 (n) :\n",
    "    result = n + 1\n",
    "\n",
    "n_plus_1(3)\n",
    "print(result)  # => global scope 는 local scope에 들어갈 수 없음. "
   ]
  },
  {
   "cell_type": "code",
   "execution_count": 52,
   "id": "240723a0-ab44-4a31-b252-67a900544ac7",
   "metadata": {},
   "outputs": [],
   "source": [
    "# 232\n",
    "# 문자열 하나를 입력받아 인터넷 주소를 반환하는 make_url 함수를 정의하라.\n",
    "\n",
    "def make_url(string):\n",
    "    url = 'www.'+ string + '.com'\n",
    "    return url"
   ]
  },
  {
   "cell_type": "code",
   "execution_count": 57,
   "id": "abb7ffd5-e0d0-4c4f-9017-7311d9f2dad9",
   "metadata": {},
   "outputs": [
    {
     "data": {
      "text/plain": [
       "['a', 'b', 'c', 'd']"
      ]
     },
     "execution_count": 57,
     "metadata": {},
     "output_type": "execute_result"
    }
   ],
   "source": [
    "# 233\n",
    "# 문자열을 입력받아 각 문자들로 구성된 리스트로 반환하는 make_list 함수를 정의하라.\n",
    "# ['a', 'b', 'c', 'd']\n",
    "\n",
    "def make_list(string):\n",
    "    return list(string)\n",
    "    \n",
    "make_list(\"abcd\")\n"
   ]
  },
  {
   "cell_type": "code",
   "execution_count": 60,
   "id": "bace3e57-2ccb-4597-acc3-17f85a478be9",
   "metadata": {},
   "outputs": [
    {
     "data": {
      "text/plain": [
       "['a', 'b', 'c', 'd']"
      ]
     },
     "execution_count": 60,
     "metadata": {},
     "output_type": "execute_result"
    }
   ],
   "source": [
    "# 233-1\n",
    "\n",
    "list = []\n",
    "def make_list(string):\n",
    "    for x in string:\n",
    "        list.append(x)\n",
    "    return list\n",
    "    \n",
    "make_list(\"abcd\")"
   ]
  },
  {
   "cell_type": "code",
   "execution_count": 63,
   "id": "6c411fda-52a6-4d62-ae6d-a2f739205b23",
   "metadata": {},
   "outputs": [
    {
     "data": {
      "text/plain": [
       "[4, 6, 8]"
      ]
     },
     "execution_count": 63,
     "metadata": {},
     "output_type": "execute_result"
    }
   ],
   "source": [
    "# 234\n",
    "# 숫자로 구성된 하나의 리스트를 입력받아, 짝수들을 추출하여 리스트로 반환하는 pickup_even 함수를 구현하라.\n",
    "\n",
    "# pickup_even([3, 4, 5, 6, 7, 8])\n",
    "# [4, 6, 8]\n",
    "\n",
    "result = []\n",
    "def pickup_even(list):\n",
    "    for num in list:\n",
    "        if num % 2 == 0:\n",
    "            result.append(num)\n",
    "    return result\n",
    "\n",
    "pickup_even([3, 4, 5, 6, 7, 8])"
   ]
  },
  {
   "cell_type": "code",
   "execution_count": 65,
   "id": "d86c857f-00bd-44cb-a69b-35e27cd2b3df",
   "metadata": {},
   "outputs": [
    {
     "data": {
      "text/plain": [
       "1234567"
      ]
     },
     "execution_count": 65,
     "metadata": {},
     "output_type": "execute_result"
    }
   ],
   "source": [
    "# 235\n",
    "# 콤마가 포함된 문자열 숫자를 입력받아 정수로 변환하는 convert_int 함수를 정의하라.\n",
    "\n",
    "# convert_int(\"1,234,567\")\n",
    "# 1234567\n",
    "\n",
    "def convert_int(string_int):\n",
    "    str_num = string_int.split(',')\n",
    "    result = ''\n",
    "    for x in str_num:\n",
    "        result += x\n",
    "\n",
    "    return int(result)\n",
    "    \n",
    "convert_int(\"1,234,567\")"
   ]
  },
  {
   "cell_type": "code",
   "execution_count": 66,
   "id": "732807ca-15b4-459e-ac16-bb037265da0b",
   "metadata": {},
   "outputs": [
    {
     "data": {
      "text/plain": [
       "1234567"
      ]
     },
     "execution_count": 66,
     "metadata": {},
     "output_type": "execute_result"
    }
   ],
   "source": [
    "# 235 -1\n",
    "\n",
    "def convert_int(string_int):\n",
    "    return int(string_int.replace(',', ''))\n",
    "    \n",
    "convert_int(\"1,234,567\")"
   ]
  },
  {
   "cell_type": "markdown",
   "id": "4b1cc7e2-cf41-4e4e-86bd-f700c4be1057",
   "metadata": {},
   "source": [
    "# 함수 중첩"
   ]
  },
  {
   "cell_type": "markdown",
   "id": "d34ea49e-739e-4a72-8e2e-7dbf37229b10",
   "metadata": {},
   "source": [
    "# 236\n",
    "# 아래 코드의 실행 결과를 예측하라.\n",
    "\n",
    "def 함수(num) :\n",
    "    return num + 4\n",
    "\n",
    "a = 함수(10)\n",
    "b = 함수(a)\n",
    "c = 함수(b)\n",
    "print(c)\n"
   ]
  },
  {
   "cell_type": "code",
   "execution_count": 69,
   "id": "b9b48603-8273-45ab-93ad-020ef6e4a0bb",
   "metadata": {},
   "outputs": [
    {
     "name": "stdout",
     "output_type": "stream",
     "text": [
      "22\n"
     ]
    }
   ],
   "source": [
    "# 237\n",
    "# 아래 코드의 실행 결과를 예측하라.\n",
    "\n",
    "def 함수(num) :\n",
    "    return num + 4\n",
    "\n",
    "c = 함수(함수(함수(10)))\n",
    "print(c)"
   ]
  },
  {
   "cell_type": "code",
   "execution_count": 70,
   "id": "049363bc-08e8-4fda-8da6-ff8fa060a139",
   "metadata": {},
   "outputs": [
    {
     "name": "stdout",
     "output_type": "stream",
     "text": [
      "140\n"
     ]
    }
   ],
   "source": [
    "# 238\n",
    "# 아래 코드의 실행 결과를 예측하라.\n",
    "\n",
    "def 함수1(num) :\n",
    "    return num + 4\n",
    "\n",
    "def 함수2(num) :\n",
    "    return num * 10\n",
    "\n",
    "a = 함수1(10)\n",
    "c = 함수2(a)\n",
    "print(c)"
   ]
  },
  {
   "cell_type": "code",
   "execution_count": 71,
   "id": "a7549ba9-cac6-413f-a736-899258fe80f9",
   "metadata": {},
   "outputs": [
    {
     "name": "stdout",
     "output_type": "stream",
     "text": [
      "16\n"
     ]
    }
   ],
   "source": [
    "# 239\n",
    "# 아래 코드의 실행 결과를 예측하라.\n",
    "\n",
    "def 함수1(num) :\n",
    "    return num + 4\n",
    "\n",
    "def 함수2(num) :\n",
    "    num = num + 2\n",
    "    return 함수1(num)\n",
    "\n",
    "c = 함수2(10)\n",
    "print(c)"
   ]
  },
  {
   "cell_type": "code",
   "execution_count": 72,
   "id": "8b1d6e98-f1ad-458f-a6d5-db4c8e3b2cf6",
   "metadata": {},
   "outputs": [
    {
     "name": "stdout",
     "output_type": "stream",
     "text": [
      "28\n"
     ]
    }
   ],
   "source": [
    "# 240\n",
    "# 아래 코드의 실행 결과를 예측하라.\n",
    "\n",
    "def 함수0(num) :\n",
    "    return num * 2\n",
    "\n",
    "def 함수1(num) :\n",
    "    return 함수0(num + 2)\n",
    "\n",
    "def 함수2(num) :\n",
    "    num = num + 10\n",
    "    return 함수1(num)\n",
    "\n",
    "c = 함수2(2)\n",
    "print(c)"
   ]
  },
  {
   "cell_type": "code",
   "execution_count": null,
   "id": "0a247b0b-c017-43ea-901c-8abc9796369c",
   "metadata": {},
   "outputs": [],
   "source": []
  }
 ],
 "metadata": {
  "kernelspec": {
   "display_name": "Python 3 (ipykernel)",
   "language": "python",
   "name": "python3"
  },
  "language_info": {
   "codemirror_mode": {
    "name": "ipython",
    "version": 3
   },
   "file_extension": ".py",
   "mimetype": "text/x-python",
   "name": "python",
   "nbconvert_exporter": "python",
   "pygments_lexer": "ipython3",
   "version": "3.11.6"
  }
 },
 "nbformat": 4,
 "nbformat_minor": 5
}
