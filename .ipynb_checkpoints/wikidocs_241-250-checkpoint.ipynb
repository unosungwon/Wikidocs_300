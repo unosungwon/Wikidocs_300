{
 "cells": [
  {
   "cell_type": "code",
   "execution_count": 2,
   "id": "6857b0d5-07d0-4298-9dbb-9211e68d5c78",
   "metadata": {},
   "outputs": [
    {
     "name": "stdout",
     "output_type": "stream",
     "text": [
      "2023-12-28 09:54:50.593695\n"
     ]
    }
   ],
   "source": [
    "# 241 현재시간\n",
    "# datetime 모듈을 사용해서 현재 시간을 화면에 출력해보세요.\n",
    "\n",
    "import datetime\n",
    "\n",
    "now = datetime.datetime.now()\n",
    "print(now)"
   ]
  },
  {
   "cell_type": "code",
   "execution_count": null,
   "id": "ba870378-e5f1-4f06-8c8d-4d1768417e1b",
   "metadata": {},
   "outputs": [],
   "source": []
  }
 ],
 "metadata": {
  "kernelspec": {
   "display_name": "Python 3 (ipykernel)",
   "language": "python",
   "name": "python3"
  },
  "language_info": {
   "codemirror_mode": {
    "name": "ipython",
    "version": 3
   },
   "file_extension": ".py",
   "mimetype": "text/x-python",
   "name": "python",
   "nbconvert_exporter": "python",
   "pygments_lexer": "ipython3",
   "version": "3.11.6"
  }
 },
 "nbformat": 4,
 "nbformat_minor": 5
}
