{
 "cells": [
  {
   "cell_type": "markdown",
   "id": "c6cc127e-0fca-4f6c-8894-580063cf27c9",
   "metadata": {},
   "source": [
    "# https://wikidocs.net/180753"
   ]
  },
  {
   "cell_type": "code",
   "execution_count": 1,
   "id": "e651d7c3-9f87-451c-b138-a2312e800cd4",
   "metadata": {},
   "outputs": [
    {
     "name": "stdout",
     "output_type": "stream",
     "text": [
      "Hello World\n"
     ]
    }
   ],
   "source": [
    "#1.화면에 Hello World 문자열을 출력하세요.\n",
    "print('Hello World')"
   ]
  },
  {
   "cell_type": "code",
   "execution_count": 2,
   "id": "de6468ff-6782-4d84-8e37-ab49bcf17364",
   "metadata": {},
   "outputs": [
    {
     "name": "stdout",
     "output_type": "stream",
     "text": [
      "Mary's cosmetics\n"
     ]
    }
   ],
   "source": [
    "#2. 화면에 Mary's cosmetics을 출력하세요. (중간에 '가 있음에 주의하세요)\n",
    "print(\"Mary's cosmetics\")"
   ]
  },
  {
   "cell_type": "code",
   "execution_count": 3,
   "id": "dd28938c-d411-4b9a-b7f9-d9c05fab5f97",
   "metadata": {},
   "outputs": [
    {
     "name": "stdout",
     "output_type": "stream",
     "text": [
      "신씨가 소리질렀다. \"도둑이야\".\n"
     ]
    }
   ],
   "source": [
    "#3. 화면에 아래 문장을 출력하세요. (중간에 \"가 있음에 주의하세요.)\n",
    "# 신씨가 소리질렀다. \"도둑이야\".\n",
    "print('신씨가 소리질렀다. \"도둑이야\".')"
   ]
  },
  {
   "cell_type": "code",
   "execution_count": 4,
   "id": "511765ec-511d-46fd-ac0c-1cc586986a16",
   "metadata": {},
   "outputs": [
    {
     "name": "stdout",
     "output_type": "stream",
     "text": [
      "C:\\Windows\n"
     ]
    }
   ],
   "source": [
    "#4. 화면에 C:\\Windows를 출력하세요.\n",
    "print('C:\\Windows')"
   ]
  },
  {
   "cell_type": "code",
   "execution_count": 5,
   "id": "15c72a97-1cdf-4abf-a474-5d9b07f179df",
   "metadata": {},
   "outputs": [
    {
     "name": "stdout",
     "output_type": "stream",
     "text": [
      "안녕하세요.\n",
      "만나서\t\t반갑습니다.\n"
     ]
    }
   ],
   "source": [
    "#5. 다음 코드를 실행해보고 \\t와 \\n의 역할을 설명해보세요.\n",
    "#안녕하세요.\n",
    "#만나서\t\t반갑습니다.\n",
    "\n",
    "print('안녕하세요.\\n만나서\\t\\t반갑습니다.')"
   ]
  },
  {
   "cell_type": "code",
   "execution_count": 6,
   "id": "aee46d16-500d-416c-9f5e-171df8c4511a",
   "metadata": {},
   "outputs": [
    {
     "name": "stdout",
     "output_type": "stream",
     "text": [
      "오늘은 일요일\n",
      "오늘은  일요일\n"
     ]
    }
   ],
   "source": [
    "#6. print 함수에 두 개의 단어를 입력한 예제입니다. 아래 코드의 출력 결과를 예상해봅시다.\n",
    "# print에 여러값을 출력하려면 쉼표로 구분해주면 되고, 값들 사이에 공백이 출력된다. \n",
    "\n",
    "print (\"오늘은\", \"일요일\")\n",
    "print('오늘은 ','일요일')"
   ]
  },
  {
   "cell_type": "code",
   "execution_count": 7,
   "id": "4ef1797e-9535-4a81-ac00-24a77da9e8dd",
   "metadata": {},
   "outputs": [
    {
     "name": "stdout",
     "output_type": "stream",
     "text": [
      "naver;kakao;sk;samsung\n"
     ]
    }
   ],
   "source": [
    "#7. print() 함수를 사용하여 다음과 같이 출력하세요.\n",
    "# naver;kakao;sk;samsung\n",
    "# sep 인자를 입력하면 출력되는 값들 사이에 공백 X, sep 인자가 출력된다.\n",
    "\n",
    "print('naver','kakao','sk','samsung',sep=';')"
   ]
  },
  {
   "cell_type": "code",
   "execution_count": 8,
   "id": "cc665b4a-439b-4272-b452-879c6b150026",
   "metadata": {},
   "outputs": [
    {
     "name": "stdout",
     "output_type": "stream",
     "text": [
      "naver/kakao/samsung\n"
     ]
    }
   ],
   "source": [
    "#8. print() 함수를 사용하여 다음과 같이 출력하세요.\n",
    "# naver/kakao/sk/samsung\n",
    "\n",
    "print('naver','kakao','samsung',sep='/')"
   ]
  },
  {
   "cell_type": "code",
   "execution_count": 9,
   "id": "7b3ae3ee-3712-4b82-bb8a-21e6cfae1cd6",
   "metadata": {},
   "outputs": [
    {
     "name": "stdout",
     "output_type": "stream",
     "text": [
      "frist second\n"
     ]
    }
   ],
   "source": [
    "#9. 다음 코드를 수정하여 줄바꿈이 없이 출력하세요. (힌트: end='') \n",
    "# print 함수는 두 번 사용합니다. \n",
    "# 세미콜론 (;)은 한줄에 여러 개의 명령을 작성하기 위해 사용합니다.\n",
    "# print('first');print('second')\n",
    "\n",
    "print('frist', end=' ');print('second')"
   ]
  },
  {
   "cell_type": "code",
   "execution_count": 10,
   "id": "85b720d7-fa17-48f8-be9c-15501c346d93",
   "metadata": {},
   "outputs": [
    {
     "name": "stdout",
     "output_type": "stream",
     "text": [
      "1.6666666666666667\n"
     ]
    }
   ],
   "source": [
    "#10. 5/3의 결과를 화면에 출력하세요.\n",
    "\n",
    "print(5/3)"
   ]
  },
  {
   "cell_type": "code",
   "execution_count": 11,
   "id": "6e9065d4-0f44-4688-bf97-5dec0b51acaf",
   "metadata": {},
   "outputs": [
    {
     "data": {
      "text/plain": [
       "500000"
      ]
     },
     "execution_count": 11,
     "metadata": {},
     "output_type": "execute_result"
    }
   ],
   "source": [
    "#11. 삼성전자라는 변수로 50,000원을 바인딩해보세요. \n",
    "# 삼성전자 주식 10주를 보유하고 있을 때 총 평가금액을 출력하세요.\n",
    "\n",
    "samsung_electronics = 50000\n",
    "total_assessment = samsung_electronics * 10\n",
    "total_assessment"
   ]
  },
  {
   "cell_type": "code",
   "execution_count": 12,
   "id": "f5097852-afbe-45db-bda8-b3594dfcd14d",
   "metadata": {},
   "outputs": [
    {
     "name": "stdout",
     "output_type": "stream",
     "text": [
      "298/50000/15.79/<class 'int'>/<class 'int'>\n"
     ]
    }
   ],
   "source": [
    "#12.\n",
    "#다음 표는 삼성전자의 일부 투자정보입니다. 변수를 사용해서 시가총액, 현재가, PER 등을 바인딩해보세요.\n",
    "\n",
    "# 항목\t값\n",
    "# 시가총액\t298조\n",
    "# 현재가\t50,000원\n",
    "# PER\t15.79\n",
    "\n",
    "market_capitalization = 298\n",
    "current_price = 50000\n",
    "PER = 15.79\n",
    "\n",
    "print(market_capitalization, current_price, PER, type(market_capitalization), type(current_price), sep = '/')"
   ]
  },
  {
   "cell_type": "code",
   "execution_count": 13,
   "id": "29b6a1bb-41f1-439b-8471-1bdd6d3bf451",
   "metadata": {},
   "outputs": [
    {
     "name": "stdout",
     "output_type": "stream",
     "text": [
      "hello! python\n",
      "hello! python\n"
     ]
    }
   ],
   "source": [
    "#13.\n",
    "#변수 s와 t에는 각각 문자열이 바인딩 되어있습니다.\n",
    "# >> s = \"hello\"\n",
    "# >> t = \"python\"\n",
    "# 두 변수를 이용하여 아래와 같이 출력해보세요.\n",
    "# 실행 예:\n",
    "# hello! python\n",
    "\n",
    "s = 'hello'\n",
    "t = 'python'\n",
    "\n",
    "print(f'{s}! {t}')\n",
    "print(s+'!', t)"
   ]
  },
  {
   "cell_type": "code",
   "execution_count": 14,
   "id": "60c16189-10dc-4c40-b477-f594177fae77",
   "metadata": {},
   "outputs": [
    {
     "name": "stdout",
     "output_type": "stream",
     "text": [
      "8\n"
     ]
    }
   ],
   "source": [
    "#14.\n",
    "#아래 코드의 실행 결과를 예상해보세요.\n",
    "# >> 2 + 2 * 3 \n",
    "\n",
    "print(2 + 2 * 3)"
   ]
  },
  {
   "cell_type": "code",
   "execution_count": 15,
   "id": "e50ba44f-a141-49e1-87c6-18f0f199361e",
   "metadata": {},
   "outputs": [
    {
     "name": "stdout",
     "output_type": "stream",
     "text": [
      "<class 'str'>\n"
     ]
    }
   ],
   "source": [
    "#15.\n",
    "# type() 함수는 데이터 타입을 판별합니다. 변수 a에는 128 숫자가 바인딩돼 있어 type 함수가 int (정수)형임을 알려줍니다.\n",
    "\n",
    "# >> a = 128\n",
    "# >> print (type(a))\n",
    "# <class 'int'>\n",
    "# 아래 변수에 바인딩된 값의 타입을 판별해보세요.\n",
    "\n",
    "# >> a = \"132\"\n",
    "\n",
    "a = '123'\n",
    "print(type(a))"
   ]
  },
  {
   "cell_type": "code",
   "execution_count": 16,
   "id": "65267ec2-117a-478f-b8f8-d49e19128679",
   "metadata": {},
   "outputs": [
    {
     "data": {
      "text/plain": [
       "(720, int)"
      ]
     },
     "execution_count": 16,
     "metadata": {},
     "output_type": "execute_result"
    }
   ],
   "source": [
    "#16.\n",
    "# 문자열 '720'를 정수형으로 변환해보세요.\n",
    "# >> num_str = \"720\"\n",
    "\n",
    "num_str = '720'\n",
    "num_int = int(num_str)\n",
    "num_int, type(num_int)"
   ]
  },
  {
   "cell_type": "code",
   "execution_count": 17,
   "id": "58f38112-bb8d-48f1-acd4-490dd8adf980",
   "metadata": {},
   "outputs": [
    {
     "data": {
      "text/plain": [
       "('100', str)"
      ]
     },
     "execution_count": 17,
     "metadata": {},
     "output_type": "execute_result"
    }
   ],
   "source": [
    "#17.\n",
    "# 정수 100을 문자열 '100'으로 변환해보세요.\n",
    "# num = 100\n",
    "\n",
    "num = 100\n",
    "str_num = str(num)\n",
    "str_num, type(str_num)"
   ]
  },
  {
   "cell_type": "code",
   "execution_count": 18,
   "id": "b7b02d64-9e9d-43b9-b2c4-e1c99ed4633b",
   "metadata": {},
   "outputs": [
    {
     "data": {
      "text/plain": [
       "15.79"
      ]
     },
     "execution_count": 18,
     "metadata": {},
     "output_type": "execute_result"
    }
   ],
   "source": [
    "#18.\n",
    "# 문자열 \"15.79\"를 실수(float) 타입으로 변환해보세요.\n",
    "\n",
    "str_num = '15.79'\n",
    "float_num = float(str_num)\n",
    "float_num"
   ]
  },
  {
   "cell_type": "code",
   "execution_count": 19,
   "id": "f362487f-423f-42ad-8a60-08cd510ad37c",
   "metadata": {},
   "outputs": [
    {
     "name": "stdout",
     "output_type": "stream",
     "text": [
      "2019\n",
      "2018\n",
      "2017\n"
     ]
    }
   ],
   "source": [
    "#19.\n",
    "# year라는 변수가 문자열 타입의 연도를 바인딩하고 있습니다. 이를 정수로 변환한 후 최근 3년의 연도를 화면에 출력해보세요.\n",
    "# year = \"2020\"\n",
    "\n",
    "year = '2020'\n",
    "print(int(year) - 1)\n",
    "print(int(year) - 2)\n",
    "print(int(year) - 3)"
   ]
  },
  {
   "cell_type": "code",
   "execution_count": 20,
   "id": "3fe25ce4-de33-4a3a-ab73-b04d71b199da",
   "metadata": {},
   "outputs": [
    {
     "data": {
      "text/plain": [
       "1749024"
      ]
     },
     "execution_count": 20,
     "metadata": {},
     "output_type": "execute_result"
    }
   ],
   "source": [
    "#20. \n",
    "# 에이컨이 월 48,584원에 무이자 36개월의 조건으로 홈쇼핑에서 판매되고 있습니다. \n",
    "# 총 금액은 계산한 후 이를 화면에 출력해보세요. (변수사용하기)\n",
    "\n",
    "price_month = 48584\n",
    "price_total = price_month * 36\n",
    "price_total"
   ]
  }
 ],
 "metadata": {
  "kernelspec": {
   "display_name": "Python 3 (ipykernel)",
   "language": "python",
   "name": "python3"
  },
  "language_info": {
   "codemirror_mode": {
    "name": "ipython",
    "version": 3
   },
   "file_extension": ".py",
   "mimetype": "text/x-python",
   "name": "python",
   "nbconvert_exporter": "python",
   "pygments_lexer": "ipython3",
   "version": "3.11.6"
  }
 },
 "nbformat": 4,
 "nbformat_minor": 5
}
