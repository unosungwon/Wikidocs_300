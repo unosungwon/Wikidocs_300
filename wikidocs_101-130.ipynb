{
 "cells": [
  {
   "cell_type": "code",
   "execution_count": 1,
   "id": "32a4a0ed-f9e1-4936-b8b0-d21fec949ffa",
   "metadata": {},
   "outputs": [
    {
     "name": "stdout",
     "output_type": "stream",
     "text": [
      "<class 'bool'>\n"
     ]
    }
   ],
   "source": [
    "# 101\n",
    "# 파이썬에서 True 혹은 False를 갖는 데이터 타입은 무엇인가?\n",
    "\n",
    "print(type(True))"
   ]
  },
  {
   "cell_type": "code",
   "execution_count": 2,
   "id": "4b42cf43-6749-44fe-bbe3-74b4570e0161",
   "metadata": {},
   "outputs": [
    {
     "name": "stdout",
     "output_type": "stream",
     "text": [
      "False\n"
     ]
    }
   ],
   "source": [
    "# 102\n",
    "# 아래 코드의 출력 결과를 예상하라\n",
    "\n",
    "print(3 == 5)"
   ]
  },
  {
   "cell_type": "code",
   "execution_count": 3,
   "id": "6611283c-2760-43d2-9a31-c16e66c491db",
   "metadata": {},
   "outputs": [
    {
     "name": "stdout",
     "output_type": "stream",
     "text": [
      "True\n"
     ]
    }
   ],
   "source": [
    "# 103\n",
    "# 아래 코드의 출력 결과를 예상하라\n",
    "\n",
    "print(3 < 5)"
   ]
  },
  {
   "cell_type": "code",
   "execution_count": 4,
   "id": "a28f1023-bdf0-416d-8413-8394e6b882da",
   "metadata": {},
   "outputs": [
    {
     "name": "stdout",
     "output_type": "stream",
     "text": [
      "True\n"
     ]
    }
   ],
   "source": [
    "# 104\n",
    "# 아래 코드의 결과를 예상하라.\n",
    "\n",
    "x = 4\n",
    "print(1 < x < 5)"
   ]
  },
  {
   "cell_type": "code",
   "execution_count": 5,
   "id": "93a21b8a-d81e-4069-8134-913974ee039a",
   "metadata": {},
   "outputs": [
    {
     "name": "stdout",
     "output_type": "stream",
     "text": [
      "True\n"
     ]
    },
    {
     "data": {
      "text/plain": [
       "5"
      ]
     },
     "execution_count": 5,
     "metadata": {},
     "output_type": "execute_result"
    }
   ],
   "source": [
    "# 105\n",
    "# 아래 코드의 결과를 예상하라.\n",
    "\n",
    "print ((3 == 3) and (4 != 3))\n",
    "(3 == 3) and 4 != 3 and 1 and ' ' and 2 and 5"
   ]
  },
  {
   "cell_type": "code",
   "execution_count": 6,
   "id": "1fa5d2fe-5922-4d56-80da-c36887acd09f",
   "metadata": {},
   "outputs": [
    {
     "ename": "SyntaxError",
     "evalue": "expression cannot contain assignment, perhaps you meant \"==\"? (2954263545.py, line 4)",
     "output_type": "error",
     "traceback": [
      "\u001b[1;36m  Cell \u001b[1;32mIn[6], line 4\u001b[1;36m\u001b[0m\n\u001b[1;33m    print(3 => 4)\u001b[0m\n\u001b[1;37m          ^\u001b[0m\n\u001b[1;31mSyntaxError\u001b[0m\u001b[1;31m:\u001b[0m expression cannot contain assignment, perhaps you meant \"==\"?\n"
     ]
    }
   ],
   "source": [
    "# 106\n",
    "# 아래 코드에서 에러가 발생하는 원인에 대해 설명하라.\n",
    "\n",
    "print(3 => 4)"
   ]
  },
  {
   "cell_type": "code",
   "execution_count": null,
   "id": "02b4ca00-de6c-4f76-8e7f-6814b7fe5569",
   "metadata": {},
   "outputs": [],
   "source": [
    "# 107\n",
    "# 아래 코드의 출력 결과를 예상하라\n",
    "\n",
    "if 4 < 3:\n",
    "    print(\"Hello World\")"
   ]
  },
  {
   "cell_type": "code",
   "execution_count": 7,
   "id": "b097e512-77ca-4a95-8d1c-2a35502a4637",
   "metadata": {},
   "outputs": [
    {
     "name": "stdout",
     "output_type": "stream",
     "text": [
      "Hi, there.\n"
     ]
    }
   ],
   "source": [
    "# 108\n",
    "# 아래 코드의 출력 결과를 예상하라\n",
    "\n",
    "if 4 < 3:\n",
    "    print(\"Hello World.\")\n",
    "else:\n",
    "    print(\"Hi, there.\")"
   ]
  },
  {
   "cell_type": "code",
   "execution_count": 8,
   "id": "9dc7d18d-cc20-4ad6-8657-d2dab95d0ef6",
   "metadata": {},
   "outputs": [
    {
     "name": "stdout",
     "output_type": "stream",
     "text": [
      "1\n",
      "2\n",
      "4\n"
     ]
    }
   ],
   "source": [
    "# 109\n",
    "# 아래 코드의 출력 결과를 예상하라\n",
    "\n",
    "if True :\n",
    "    print (\"1\")\n",
    "    print (\"2\")\n",
    "else :\n",
    "    print(\"3\")\n",
    "    \n",
    "print(\"4\")"
   ]
  },
  {
   "cell_type": "code",
   "execution_count": 9,
   "id": "46a23abe-e290-40ab-af2d-d68addb39c3a",
   "metadata": {},
   "outputs": [
    {
     "name": "stdout",
     "output_type": "stream",
     "text": [
      "3\n",
      "4\n"
     ]
    }
   ],
   "source": [
    "# 109 - 1\n",
    "\n",
    "if 0 :\n",
    "    print (\"1\")\n",
    "    print (\"2\")\n",
    "else :\n",
    "    print(\"3\")\n",
    "    \n",
    "print(\"4\")"
   ]
  },
  {
   "cell_type": "code",
   "execution_count": 10,
   "id": "246a72c7-6bef-4909-ab82-24066c613bc3",
   "metadata": {},
   "outputs": [
    {
     "name": "stdout",
     "output_type": "stream",
     "text": [
      "1\n",
      "2\n",
      "4\n"
     ]
    }
   ],
   "source": [
    "# 109 - 2\n",
    "\n",
    "if 1 :\n",
    "    print (\"1\")\n",
    "    print (\"2\")\n",
    "else :\n",
    "    print(\"3\")\n",
    "    \n",
    "print(\"4\")"
   ]
  },
  {
   "cell_type": "code",
   "execution_count": 11,
   "id": "bce22ddc-6f42-482c-84fa-76ba06d1ed16",
   "metadata": {},
   "outputs": [
    {
     "name": "stdout",
     "output_type": "stream",
     "text": [
      "3\n",
      "5\n"
     ]
    }
   ],
   "source": [
    "# 110\n",
    "# 아래 코드의 출력 결과를 예상하라\n",
    "\n",
    "if True :\n",
    "    if False:\n",
    "        print(\"1\")\n",
    "        print(\"2\")\n",
    "    else:\n",
    "        print(\"3\")\n",
    "else :\n",
    "    print(\"4\")\n",
    "print(\"5\")"
   ]
  },
  {
   "cell_type": "code",
   "execution_count": 15,
   "id": "ba66e5b3-f7ff-44d6-af04-08cc9106ec75",
   "metadata": {},
   "outputs": [
    {
     "name": "stdin",
     "output_type": "stream",
     "text": [
      " 2\n"
     ]
    },
    {
     "name": "stdout",
     "output_type": "stream",
     "text": [
      "22\n"
     ]
    }
   ],
   "source": [
    "# 111\n",
    "# 사용자로부터 입력받은 문자열을 두 번 출력하라. \n",
    "# 아래는 사용자가 \"안녕하세요\"를 입력한 경우의 출력 결과이다.\n",
    "\n",
    "# >> 안녕하세요\n",
    "# 안녕하세요안녕하세요\n",
    "\n",
    "result = input( )\n",
    "print(result * 2)"
   ]
  },
  {
   "cell_type": "code",
   "execution_count": 16,
   "id": "f5e4b7c9-dbdc-4ab5-bb52-546d3af1c576",
   "metadata": {},
   "outputs": [
    {
     "name": "stdin",
     "output_type": "stream",
     "text": [
      "숫자를 입력하세요:  3\n"
     ]
    },
    {
     "data": {
      "text/plain": [
       "13"
      ]
     },
     "execution_count": 16,
     "metadata": {},
     "output_type": "execute_result"
    }
   ],
   "source": [
    "# 112\n",
    "# 사용자로부터 하나의 숫자를 입력받고, 입력 받은 숫자에 10을 더해 출력하라.\n",
    "\n",
    "# >> 숫자를 입력하세요: 30\n",
    "# 40\n",
    "\n",
    "int_num = int(input('숫자를 입력하세요: ')) + 10\n",
    "int_num"
   ]
  },
  {
   "cell_type": "code",
   "execution_count": 17,
   "id": "af6b71bb-0b5c-4432-abcc-2df7ae9eea64",
   "metadata": {},
   "outputs": [
    {
     "name": "stdin",
     "output_type": "stream",
     "text": [
      " 4\n"
     ]
    },
    {
     "name": "stdout",
     "output_type": "stream",
     "text": [
      "짝수\n"
     ]
    }
   ],
   "source": [
    "# 113\n",
    "# 사용자로부터 하나의 숫자를 입력 받고 짝수/홀수를 판별하라.\n",
    "\n",
    "# >> 30\n",
    "# 짝수\n",
    "\n",
    "num = int(input())\n",
    "if num % 2 == 1:\n",
    "    print('홀수')\n",
    "else:\n",
    "    print('짝수')"
   ]
  },
  {
   "cell_type": "code",
   "execution_count": 18,
   "id": "28859365-adba-4291-84fd-6b070172393c",
   "metadata": {},
   "outputs": [
    {
     "name": "stdin",
     "output_type": "stream",
     "text": [
      " 143\n"
     ]
    },
    {
     "name": "stdout",
     "output_type": "stream",
     "text": [
      "143\n"
     ]
    }
   ],
   "source": [
    "# 114\n",
    "# 사용자로부터 값을 입력받은 후 해당 값에 20을 더한 값을 출력하라. \n",
    "# 단 사용자가 입력한 값과 20을 더한 계산 값이 255를 초과하는 경우 255를 출력해야 한다.\n",
    "\n",
    "# >> 입력값: 200\n",
    "# 출력값: 220\n",
    "# >> 입력값: 240\n",
    "# 출력값: 255\n",
    "\n",
    "num = int(input())\n",
    "if num + 20 < 255 :\n",
    "    print(num)\n",
    "else:\n",
    "    print(255)"
   ]
  },
  {
   "cell_type": "code",
   "execution_count": 19,
   "id": "8a3fe8d1-6261-4b83-9157-7784284aa141",
   "metadata": {},
   "outputs": [
    {
     "name": "stdin",
     "output_type": "stream",
     "text": [
      " 46\n"
     ]
    },
    {
     "name": "stdout",
     "output_type": "stream",
     "text": [
      "26\n"
     ]
    }
   ],
   "source": [
    "# 115\n",
    "# 사용자로부터 하나의 값을 입력받은 후 해당 값에 20을 뺀 값을 출력하라. \n",
    "# 단 출력 값의 범위는 0~255이다. \n",
    "# 예를 들어 결괏값이 0보다 작은 값이되는 경우 0을 출력하고 255보다 큰 값이 되는 경우 255를 출력해야 한다.\n",
    "\n",
    "# >> 입력값: 200\n",
    "# 출력값: 180\n",
    "# >> 입력값: 15\n",
    "# 출력값: 0\n",
    "\n",
    "num = int(input()) -20\n",
    "if 0 > num:\n",
    "    print(0)\n",
    "elif 255 < num :\n",
    "    print(255)\n",
    "else:\n",
    "    print(num)"
   ]
  },
  {
   "cell_type": "code",
   "execution_count": 20,
   "id": "32770524-d1fc-4f66-9754-57102f10d561",
   "metadata": {},
   "outputs": [
    {
     "name": "stdin",
     "output_type": "stream",
     "text": [
      "현재시간:  11:11\n"
     ]
    },
    {
     "name": "stdout",
     "output_type": "stream",
     "text": [
      "정각이 아닙니다.\n"
     ]
    }
   ],
   "source": [
    "# 116\n",
    "# 사용자로부터 입력 받은 시간이 정각인지 판별하라.\n",
    "\n",
    "# >> 현재시간:02:00\n",
    "# 정각 입니다.\n",
    "# >> 현재시간:03:10\n",
    "# 정각이 아닙니다\n",
    "\n",
    "time = input('현재시간: ')\n",
    "if time[-2:] == '00':\n",
    "    print('정각 입니다.')\n",
    "else:\n",
    "    print('정각이 아닙니다.')"
   ]
  },
  {
   "cell_type": "code",
   "execution_count": 21,
   "id": "ad1cb3c1-67b6-4387-a2a7-058f56d489e9",
   "metadata": {},
   "outputs": [
    {
     "name": "stdin",
     "output_type": "stream",
     "text": [
      " banana\n"
     ]
    },
    {
     "name": "stdout",
     "output_type": "stream",
     "text": [
      "정답입니다.\n"
     ]
    }
   ],
   "source": [
    "# 117\n",
    "# 사용자로 입력받은 단어가 아래 fruit 리스트에 포함되어 있는지를 확인하라. \n",
    "# 포함되었다면 \"정답입니다\"를 아닐 경우 \"오답입니다\" 출력하라.\n",
    "\n",
    "# fruit = [\"apple\", \"grape\", \"banana\"]\n",
    "# >> 좋아하는 과일은? apple\n",
    "# 정답입니다.\n",
    "\n",
    "user = input()\n",
    "fruit = [\"apple\", \"grape\", \"banana\"]\n",
    "\n",
    "if user in fruit:\n",
    "    print('정답입니다.')\n",
    "else:\n",
    "    print('오답입니다.')\n"
   ]
  },
  {
   "cell_type": "code",
   "execution_count": 22,
   "id": "0dd97c5a-a066-4337-bce3-e686d37a1455",
   "metadata": {},
   "outputs": [
    {
     "name": "stdin",
     "output_type": "stream",
     "text": [
      " Google\n"
     ]
    },
    {
     "name": "stdout",
     "output_type": "stream",
     "text": [
      "투자 경고 종목입니다\n"
     ]
    }
   ],
   "source": [
    "# 118\n",
    "# 투자 경고 종목 리스트가 있을 때 사용자로부터 종목명을 입력 받은 후 해당 종목이 투자 경고 종목이라면\n",
    "# '투자 경고 종목입니다'를 아니면 \"투자 경고 종목이 아닙니다.\"를 출력하는 프로그램을 작성하라.\n",
    "\n",
    "user = input()\n",
    "warn_investment_list = [\"Microsoft\", \"Google\", \"Naver\", \"Kakao\", \"SAMSUNG\", \"LG\"]\n",
    "\n",
    "if user in warn_investment_list:\n",
    "    print('투자 경고 종목입니다')\n",
    "else:\n",
    "    print('투자 경고 종목이 아닙니다.')"
   ]
  },
  {
   "cell_type": "code",
   "execution_count": 23,
   "id": "46980e76-6e39-4b67-bee2-1d99ae4ce43e",
   "metadata": {},
   "outputs": [
    {
     "name": "stdin",
     "output_type": "stream",
     "text": [
      " 여름\n"
     ]
    },
    {
     "name": "stdout",
     "output_type": "stream",
     "text": [
      "정답입니다\n"
     ]
    }
   ],
   "source": [
    "# 110\n",
    "# 아래와 같이 fruit 딕셔너리가 정의되어 있다. \n",
    "# 사용자가 입력한 값이 딕셔너리 키 (key) 값에 포함되었다면 \"정답입니다\"를 아닐 경우 \"오답입니다\" 출력하라.\n",
    "\n",
    "# >> 제가좋아하는계절은: 봄\n",
    "# 정답입니다.\n",
    "\n",
    "user_season = input()\n",
    "fruit = {\"봄\" : \"딸기\", \"여름\" : \"토마토\", \"가을\" : \"사과\"}\n",
    "\n",
    "if user_season in fruit:\n",
    "    print('정답입니다')\n",
    "else:\n",
    "    print('오답입니다')"
   ]
  },
  {
   "cell_type": "code",
   "execution_count": 24,
   "id": "92a501d7-d675-4e62-a916-5f4589e7f366",
   "metadata": {},
   "outputs": [
    {
     "name": "stdin",
     "output_type": "stream",
     "text": [
      " 여름\n"
     ]
    },
    {
     "name": "stdout",
     "output_type": "stream",
     "text": [
      "dict_values(['딸기', '토마토', '사과']) <class 'dict_values'>\n",
      "['딸기', '토마토', '사과'] <class 'list'>\n",
      "오답입니다\n"
     ]
    }
   ],
   "source": [
    "# 120\n",
    "# 아래와 같이 fruit 딕셔너리가 정의되어 있다. \n",
    "# 사용자가 입력한 값이 딕셔너리 값 (value)에 포함되었다면 \"정답입니다\"를 아닐 경우 \"오답입니다\" 출력하라.\n",
    "\n",
    "# >> 좋아하는과일은? 한라봉\n",
    "# 오답입니다.\n",
    "\n",
    "fruit = {\"봄\" : \"딸기\", \"여름\" : \"토마토\", \"가을\" : \"사과\"}\n",
    "user = input()\n",
    "print(fruit.values(), type(fruit.values()))\n",
    "print(list(fruit.values()), type(list(fruit.values())))\n",
    "\n",
    "if user in fruit.values():\n",
    "    print('정답입니다')\n",
    "else:\n",
    "    print('오답입니다')"
   ]
  },
  {
   "cell_type": "code",
   "execution_count": 25,
   "id": "a67eb9d1-39ee-4417-803a-73b27ecbac88",
   "metadata": {},
   "outputs": [
    {
     "name": "stdin",
     "output_type": "stream",
     "text": [
      " d\n"
     ]
    },
    {
     "name": "stdout",
     "output_type": "stream",
     "text": [
      "D\n"
     ]
    }
   ],
   "source": [
    "# 121\n",
    "# 사용자로부터 문자 한 개를 입력 받고, 소문자일 경우 대문자로, 대문자 일 경우, 소문자로 변경해서 출력하라.\n",
    "\n",
    "# >> a\n",
    "# A\n",
    "\n",
    "user = input()\n",
    "if user.isupper():\n",
    "    print(user.lower())\n",
    "else:\n",
    "    print(user.upper())"
   ]
  },
  {
   "cell_type": "code",
   "execution_count": 26,
   "id": "25042b91-64fb-40af-833e-28ba997c8cc5",
   "metadata": {},
   "outputs": [
    {
     "name": "stdin",
     "output_type": "stream",
     "text": [
      "score:  45\n"
     ]
    },
    {
     "name": "stdout",
     "output_type": "stream",
     "text": [
      "C\n"
     ]
    }
   ],
   "source": [
    "# 122\n",
    "# 점수 구간에 해당하는 학점이 아래와 같이 정의되어 있다. 사용자로부터 score를 입력받아 학점을 출력하라.\n",
    "\n",
    "# 점수\t학점\n",
    "# 81~100\tA\n",
    "# 61~80\tB\n",
    "# 41~60\tC\n",
    "# 21~40\tD\n",
    "# 0~20\tE\n",
    "# >> score: 83\n",
    "# grade is A\n",
    "\n",
    "user = int(input('score: '))\n",
    "\n",
    "if 81 <= user <= 100:\n",
    "    print('A')\n",
    "elif 61 <= user :\n",
    "    print('B')\n",
    "elif 41 <= user:\n",
    "    print('C')\n",
    "elif 21 <= user:\n",
    "    print('D')\n",
    "else:\n",
    "    print('E')\n"
   ]
  },
  {
   "cell_type": "code",
   "execution_count": 27,
   "id": "235b6d16-b5ff-4e9b-b317-78c295e95586",
   "metadata": {},
   "outputs": [
    {
     "name": "stdin",
     "output_type": "stream",
     "text": [
      "입력:  100 dollar\n"
     ]
    },
    {
     "name": "stdout",
     "output_type": "stream",
     "text": [
      "116700\n"
     ]
    }
   ],
   "source": [
    "# 123\n",
    "# 사용자로부터 달러, 엔, 유로, 또는 위안 금액을 입력받은 후 이를 원으로 변환하는 프로그램을 작성하라.\n",
    "# 각 통화별 환율은 다음과 같다. \n",
    "# 사용자는 100 달러, 1000 엔, 13 유로, 100 위안과 같이 금액과 통화명 사이에 공백을 넣어 입력한다고 가정한다.\n",
    "\n",
    "# 통화명\t환율\n",
    "# dollar\t1167\n",
    "# yan\t1.096\n",
    "# euro\t1268\n",
    "# yuan\t171\n",
    "# >> 입력: 100 dollar\n",
    "# 116700.00 won\n",
    "\n",
    "exchange = {'dollar' : 1167, 'yan' : 1.096 , 'euro' : 1268, 'yuan' : 171}\n",
    "user = input('입력: ')\n",
    "\n",
    "user_money = user.split()\n",
    "\n",
    "if user_money[-1] == 'dollar':\n",
    "    print(int(user_money[0]) * exchange['dollar'])\n",
    "elif user_money[-1] == 'yan':\n",
    "    print(int(user_money[0]) * exchange['yan'])\n",
    "elif user_money[-1] == 'euro':\n",
    "    print(int(user_money[0]) * exchange['euro'])\n",
    "else:\n",
    "    print(int(user_money[0]) * exchange['yuan'])"
   ]
  },
  {
   "cell_type": "code",
   "execution_count": 28,
   "id": "1fd40f83-20eb-4c30-8c35-801a74e2cd7f",
   "metadata": {},
   "outputs": [
    {
     "name": "stdin",
     "output_type": "stream",
     "text": [
      "입력:  100 dollar\n"
     ]
    },
    {
     "name": "stdout",
     "output_type": "stream",
     "text": [
      "116700 원\n"
     ]
    }
   ],
   "source": [
    "# 123 -1\n",
    "\n",
    "exchange = {'dollar' : 1167, 'yan' : 1.096 , 'euro' : 1268, 'yuan' : 171}\n",
    "user = input('입력: ')\n",
    "num, currency = user.split()\n",
    "print(int(num) * exchange[currency], '원')"
   ]
  },
  {
   "cell_type": "code",
   "execution_count": 29,
   "id": "21f6014a-f09c-41b9-958f-981fd1c21ee1",
   "metadata": {},
   "outputs": [
    {
     "name": "stdin",
     "output_type": "stream",
     "text": [
      "input number1:  10\n",
      "input number2:  9\n",
      "input number3:  20\n"
     ]
    },
    {
     "name": "stdout",
     "output_type": "stream",
     "text": [
      "20\n"
     ]
    }
   ],
   "source": [
    "# 124\n",
    "# 사용자로부터 세 개의 숫자를 입력 받은 후 가장 큰 숫자를 출력하라.\n",
    "\n",
    "# >> input number1: 10\n",
    "# >> input number2: 9\n",
    "# >> input number3: 20\n",
    "# 20\n",
    "\n",
    "num1 = int(input('input number1: '))\n",
    "num2 = int(input('input number2: '))\n",
    "num3 = int(input('input number3: '))\n",
    "\n",
    "if num1 >= num2 and num1 >= num3 :\n",
    "    print(num1)\n",
    "elif num2 >= num1 and num2 >= num3:\n",
    "    print(num2)\n",
    "else:\n",
    "    print(num3)"
   ]
  },
  {
   "cell_type": "code",
   "execution_count": 30,
   "id": "6a5711a5-8b4c-4a62-b599-8f9e7f237a33",
   "metadata": {},
   "outputs": [
    {
     "name": "stdin",
     "output_type": "stream",
     "text": [
      "휴대전화 번호 입력:  011-345-1922\n"
     ]
    },
    {
     "name": "stdout",
     "output_type": "stream",
     "text": [
      "SKT\n"
     ]
    }
   ],
   "source": [
    "# 125\n",
    "# 휴대폰 번호 앞자리에 따라 통신사는 아래와 같이 구분된다. \n",
    "# 사용자로부터 휴대전화 번호를 입력 받고, 통신사를 출력하는 프로그램을 작성하라.\n",
    "\n",
    "# 번호\t통신사\n",
    "# 011\tSKT\n",
    "# 016\tKT\n",
    "# 019\tLGU\n",
    "# 010\t알수없음\n",
    "# >> 휴대전화 번호 입력: 011-345-1922\n",
    "# 당신은 SKT 사용자입니다.\n",
    "\n",
    "\n",
    "telecom = {'011' : 'SKT', \n",
    "           '016' : 'KT', \n",
    "           '019' : 'LGU', \n",
    "           '010' : '알수없음'}\n",
    "\n",
    "user = input('휴대전화 번호 입력: ')\n",
    "user_num = user.split('-')\n",
    "\n",
    "print(telecom[user_num[0]])\n",
    "    "
   ]
  },
  {
   "cell_type": "code",
   "execution_count": 31,
   "id": "1ad3e97b-5185-4a2c-bf02-5d18d8aa523d",
   "metadata": {},
   "outputs": [
    {
     "name": "stdin",
     "output_type": "stream",
     "text": [
      "우편번호:  011-345-1922\n"
     ]
    },
    {
     "name": "stdout",
     "output_type": "stream",
     "text": [
      "강북구\n"
     ]
    }
   ],
   "source": [
    "# 126\n",
    "# 우편번호는 5자리로 구성되는데, 앞의 세자리는 구를 나타낸다. \n",
    "# 예를들어, 강북구의 경우 010, 011, 012 세 자리로 시작한다.\n",
    "\n",
    "# -\t0\t1\t2\t3\t4\t5\t6\t7\t8\t9\n",
    "# 01\t강북구\t강북구\t강북구\t도봉구\t도봉구\t도봉구\t노원구\t노원구\t노원구\t노원구\n",
    "# 사용자로 부터 5자리 우편번호를 입력받고 구를 판별하라\n",
    "\n",
    "# >> 우편번호: 01400\n",
    "# 도봉구\n",
    "\n",
    "city_num = {'강북구' : ['010', '011', '012'],\n",
    "            '도봉구' : ['013', '014', '015'],\n",
    "            '노원구' : ['016', '017', '018', '019']}\n",
    "\n",
    "user = input('우편번호: ')\n",
    "\n",
    "if user[:3] in city_num['강북구']:\n",
    "    print('강북구')\n",
    "elif user[:3] in city_num['도봉구']:\n",
    "    print('도봉구')\n",
    "else:\n",
    "    print('노원구')"
   ]
  },
  {
   "cell_type": "code",
   "execution_count": 32,
   "id": "29617321-690f-49a2-885f-824d9d94eae9",
   "metadata": {},
   "outputs": [
    {
     "name": "stdin",
     "output_type": "stream",
     "text": [
      "주민등록번호:  821010-1635210\n"
     ]
    },
    {
     "name": "stdout",
     "output_type": "stream",
     "text": [
      "남자\n"
     ]
    }
   ],
   "source": [
    "# 127\n",
    "# 주민등록번호 뒷 자리 7자리 중 첫째 자리는 성별을 나타내는데, 1, 3은 남자 2, 4는 여자를 의미한다. \n",
    "# 사용자로부터 13자리의 주민등록번호를 입력 받은 후 성별 (남자, 여자)를 출력하는 프로그램을 작성하라.\n",
    "\n",
    "# >> 주민등록번호: 821010-1635210\n",
    "# 남자\n",
    "\n",
    "user = input('주민등록번호: ')\n",
    "user_num = user.split('-')[1]\n",
    "if user_num[0] == '1' or '3':\n",
    "    print('남자')\n",
    "else:\n",
    "    print('여자')"
   ]
  },
  {
   "cell_type": "code",
   "execution_count": 33,
   "id": "d246dcce-363b-4d54-a6ef-7c6d0fbd1686",
   "metadata": {},
   "outputs": [
    {
     "name": "stdin",
     "output_type": "stream",
     "text": [
      "주민등록번호:  821010-1635210\n"
     ]
    },
    {
     "name": "stdout",
     "output_type": "stream",
     "text": [
      "서울이 아닙니다.\n"
     ]
    }
   ],
   "source": [
    "# 128\n",
    "# 주민등록번호의 뒷 자리 7자리 중 두번째와 세번째는 지역코드를 의미한다. \n",
    "# 주민 등록 번호를 입력 받은 후 출생지가 서울인지 아닌지 판단하는 코드를 작성하라\n",
    "\n",
    "# 지역코드\t출생지\n",
    "# 00 ~ 08\t서울\n",
    "# 09 ~ 12\t부산\n",
    "# >> 주민등록번호: 821010-1635210\n",
    "# 서울이 아닙니다.\n",
    "# >> 주민등록번호: 861010-1015210\n",
    "# 서울 입니다.\n",
    "\n",
    "seoul_code = ['0' + str(num) for num in range(9)]\n",
    "user = input('주민등록번호: ')\n",
    "user_num = user.split('-')[1]\n",
    "\n",
    "if user_num[1:3] in seoul_code:\n",
    "    print('서울 입니다.')\n",
    "else:\n",
    "    print('서울이 아닙니다.')\n"
   ]
  },
  {
   "cell_type": "code",
   "execution_count": 34,
   "id": "8b1e6668-1f60-402f-ae6b-66e4d099fa43",
   "metadata": {},
   "outputs": [
    {
     "name": "stdin",
     "output_type": "stream",
     "text": [
      "주민등록번호:  821010-1635210\n"
     ]
    },
    {
     "name": "stdout",
     "output_type": "stream",
     "text": [
      "사을\n"
     ]
    }
   ],
   "source": [
    "# 128 -1\n",
    "user = input('주민등록번호: ')\n",
    "user_num = user.split('-')[1]\n",
    "\n",
    "if int(user_num[1:3]) in range(9):\n",
    "    print('서울 입니다.')\n",
    "else:\n",
    "    print('사을')"
   ]
  },
  {
   "cell_type": "code",
   "execution_count": 35,
   "id": "4b4c76ba-ac69-4689-b155-f7181e3d2403",
   "metadata": {},
   "outputs": [],
   "source": [
    "# 129\n",
    "# 주민등록번호는 13자리로 구성되는데 마지막 자리수는 주민등록번호의 유효성을 체크하는데 사용된다. \n",
    "# 먼저 앞에서부터 12자리의 숫자에 2, 3, 4, 5, 6, 7, 8, 9, 2, 3, 4, 5를 차례로 곱한 뒤 그 값을 전부 더한다.\n",
    "# 연산 결과 값을 11로 나누면 나머지가 나오는데 11에서 나머지를 뺀 값이 주민등록번호의 마지막 번호가 된다.\n",
    "\n",
    "#   8 2 1 0 1 0 - 1 6 3 5 2 1 0\n",
    "# x 2 3 4 5 6 7   8 9 2 3 4 5 \n",
    "# -----------------------------\n",
    "# 1차 계산: (8*2 + 2*3 + 1*4 + 0*5 + 1*6 + 0*7 + 1*8 + 6*9 + 3*2 + 5*3 + 2*4 + 1*5) = (128 % 11) = 7\n",
    "# 2차 계산: 11 -7 = 4\n",
    "# 위와 같이 821010-1635210에 대해서 계산을 해보면 마지막 자리는 4가 되어야 함을 알 수 있다. \n",
    "# 즉, 821010-1635210은 유효하지 않은 주민등록번호임을 알 수 있다.\n",
    "\n",
    "# 다음과 같이 사용자로부터 주민등록번호를 입력받은 후 주민등록번호가 유효한지를 출력하는 프로그램을 작성하라.\n",
    "\n",
    "# >> 주민등록번호: 821010-1635210\n",
    "# 유효하지 않은 주민등록번호입니다. "
   ]
  },
  {
   "cell_type": "code",
   "execution_count": 36,
   "id": "f0de8e0d-84c3-4b34-9b78-bcb939f4d1af",
   "metadata": {},
   "outputs": [
    {
     "name": "stdin",
     "output_type": "stream",
     "text": [
      " 821010-1635210\n"
     ]
    },
    {
     "name": "stdout",
     "output_type": "stream",
     "text": [
      "유효하지 않은 주민등록번호입니다.\n"
     ]
    }
   ],
   "source": [
    "user_num = input().replace('-', '')\n",
    "\n",
    "i = 0\n",
    "n = 2\n",
    "total_sum = 0\n",
    "\n",
    "while i <= len(user_num) - 1:\n",
    "    if n <= 9:\n",
    "        total_sum += int(user_num[i]) * n\n",
    "        i += 1\n",
    "        n += 1\n",
    "    else:\n",
    "        n = 2\n",
    "        total_sum += int(user_num[i]) * n\n",
    "        n += 1\n",
    "        \n",
    "if 11 - (total_sum % 11) == int(user_num[-1]):\n",
    "    print('유효한 주민등록번호입니다.')\n",
    "else:\n",
    "    print('유효하지 않은 주민등록번호입니다.')\n"
   ]
  },
  {
   "cell_type": "code",
   "execution_count": 37,
   "id": "6ed88f90-c05e-41af-86ef-d46185d8dd28",
   "metadata": {},
   "outputs": [],
   "source": [
    "# 130\n",
    "# 아래 코드는 비트코인의 가격 정보를 딕셔너리로 가져오는 코드이다.\n",
    "\n",
    "# import requests\n",
    "# btc = requests.get(\"https://api.bithumb.com/public/ticker/\").json()['data']\n",
    "# btc 딕셔너리 안에는 시가, 종가, 최고가, 최저가 등이 저장되어 있다. \n",
    "# 최고가와 최저가의 차이를 변동폭으로 정의할 때 (시가 + 변동폭)이 최고가 보다 높을 경우 \"상승장\", \n",
    "# 그렇지 않은 경우 \"하락장\" 문자열을 출력하라.\n",
    "\n",
    "# Key Name\tDescription\n",
    "# opening_price\t최근 24시간 내 시작 거래금액\n",
    "# closing_price\t최근 24시간 내 마지막 거래금액\n",
    "# min_price\t최근 24시간 내 최저 거래금액\n",
    "# max_price\t최근 24시간 내 최고 거래금액"
   ]
  },
  {
   "cell_type": "code",
   "execution_count": 38,
   "id": "93a6f463-5ea9-41cd-bf2e-369867ecc193",
   "metadata": {},
   "outputs": [
    {
     "name": "stdout",
     "output_type": "stream",
     "text": [
      "상승장\n"
     ]
    }
   ],
   "source": [
    "import requests\n",
    "btc = requests.get(\"https://api.bithumb.com/public/ticker/\").json()['data']\n",
    "\n",
    "if int(btc['opening_price']) + (int(btc['max_price']) - int(btc['min_price'])) > int(btc['max_price']):\n",
    "    print('상승장')\n",
    "else : \n",
    "    print('하락장')"
   ]
  }
 ],
 "metadata": {
  "kernelspec": {
   "display_name": "Python 3 (ipykernel)",
   "language": "python",
   "name": "python3"
  },
  "language_info": {
   "codemirror_mode": {
    "name": "ipython",
    "version": 3
   },
   "file_extension": ".py",
   "mimetype": "text/x-python",
   "name": "python",
   "nbconvert_exporter": "python",
   "pygments_lexer": "ipython3",
   "version": "3.11.6"
  }
 },
 "nbformat": 4,
 "nbformat_minor": 5
}
