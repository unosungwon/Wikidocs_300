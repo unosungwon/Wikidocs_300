{
 "cells": [
  {
   "cell_type": "markdown",
   "id": "16350199-6eda-4fa9-9a89-1acd836b1f4b",
   "metadata": {},
   "source": [
    "# for문은 `들여쓰기된 코드`가 `자료구조의 데이터 개수`만큼 `반복`된다\n",
    "=> 만약 4번 반복됐다 ? \n",
    "\n",
    "=> 자료구조의 데이터 개수가 4개라는 뜻"
   ]
  },
  {
   "cell_type": "code",
   "execution_count": 1,
   "id": "b7100ec6-d741-4e78-9a16-a879642fd6b3",
   "metadata": {},
   "outputs": [
    {
     "name": "stdout",
     "output_type": "stream",
     "text": [
      "사과\n",
      "귤\n",
      "수박\n"
     ]
    },
    {
     "ename": "NameError",
     "evalue": "name '사과' is not defined",
     "output_type": "error",
     "traceback": [
      "\u001b[1;31m---------------------------------------------------------------------------\u001b[0m",
      "\u001b[1;31mNameError\u001b[0m                                 Traceback (most recent call last)",
      "Cell \u001b[1;32mIn[1], line 8\u001b[0m\n\u001b[0;32m      5\u001b[0m \u001b[38;5;28;01mfor\u001b[39;00m 변수 \u001b[38;5;129;01min\u001b[39;00m 과일:\n\u001b[0;32m      6\u001b[0m     \u001b[38;5;28mprint\u001b[39m(변수)\n\u001b[1;32m----> 8\u001b[0m \u001b[43m사과\u001b[49m\n\u001b[0;32m      9\u001b[0m 귤\n\u001b[0;32m     10\u001b[0m 수박\n",
      "\u001b[1;31mNameError\u001b[0m: name '사과' is not defined"
     ]
    }
   ],
   "source": [
    "# 131\n",
    "# for문의 실행결과를 예측하라.\n",
    "\n",
    "과일 = [\"사과\", \"귤\", \"수박\"]\n",
    "for 변수 in 과일:\n",
    "    print(변수)\n",
    "\n",
    "# 리스트에 들어있는 문자열이 한 라인에 하나씩 출력됩니다.\n",
    "# 사과\n",
    "# 귤\n",
    "# 수박"
   ]
  },
  {
   "cell_type": "code",
   "execution_count": 2,
   "id": "ac955a34-b456-4121-bb4a-73311c8bc88b",
   "metadata": {},
   "outputs": [
    {
     "name": "stdout",
     "output_type": "stream",
     "text": [
      "#####\n",
      "#####\n",
      "#####\n"
     ]
    }
   ],
   "source": [
    "# 132\n",
    "# for문의 실행결과를 예측하라.\n",
    "\n",
    "과일 = [\"사과\", \"귤\", \"수박\"]\n",
    "for x in 과일:     # -> 자료구조에 저장된 데이터 개수만큼 반복된다. \n",
    "  print(\"#####\")\n",
    "\n",
    "#####\n",
    "#####\n",
    "#####"
   ]
  },
  {
   "cell_type": "code",
   "execution_count": 4,
   "id": "b8d2c8ff-697d-4109-b827-6b911633cd9b",
   "metadata": {},
   "outputs": [
    {
     "name": "stdout",
     "output_type": "stream",
     "text": [
      "A\n",
      "B\n",
      "C\n",
      "A\n",
      "B\n",
      "C\n"
     ]
    }
   ],
   "source": [
    "# 133\n",
    "# 다음 for 문과 동일한 기능을 수행하는 코드를 작성하세요.\n",
    "\n",
    "for x in [\"A\", \"B\", \"C\"]:  # 1. 변수 바인딩\n",
    "  print(변수)                 # 2. 변수 출력\n",
    "\n",
    "x = 'A'\n",
    "print(x)\n",
    "x = 'B'\n",
    "print(x)\n",
    "x = 'C'\n",
    "print(x)"
   ]
  },
  {
   "cell_type": "code",
   "execution_count": 7,
   "id": "e5a2f6e5-7c44-482d-9297-767b8fc1de4c",
   "metadata": {},
   "outputs": [
    {
     "name": "stdout",
     "output_type": "stream",
     "text": [
      "출력: C\n",
      "출력: C\n",
      "출력: C\n",
      "출력: A\n",
      "출력: B\n",
      "출력: C\n"
     ]
    }
   ],
   "source": [
    "# 134\n",
    "# for문을 풀어서 동일한 동작을하는 코드를 작성하라.\n",
    "\n",
    "for x in [\"A\", \"B\", \"C\"]:\n",
    "  print(\"출력:\", 변수)\n",
    "\n",
    "x = 'A'\n",
    "print('출력:' , x)\n",
    "x = 'B'\n",
    "print('출력:', x)\n",
    "x = 'C'\n",
    "print('출력:', x)"
   ]
  },
  {
   "cell_type": "code",
   "execution_count": 9,
   "id": "daf541b4-cd4b-409d-81f6-fc840e6bbcd1",
   "metadata": {},
   "outputs": [
    {
     "name": "stdout",
     "output_type": "stream",
     "text": [
      "변환: a\n",
      "변환: b\n",
      "변환: c\n",
      "변환: a\n",
      "변환: b\n",
      "변환: c\n"
     ]
    }
   ],
   "source": [
    "# 135\n",
    "# for문을 풀어서 동일한 동작을 하는 코드를 작성하라.\n",
    "\n",
    "for x in [\"A\", \"B\", \"C\"]:\n",
    "  b = x.lower()\n",
    "  print(\"변환:\", b)\n",
    "\n",
    "x = 'A'\n",
    "b = x.lower()\n",
    "print('변환:', b)\n",
    "x = 'B'\n",
    "b = x.lower()\n",
    "print('변환:', b)\n",
    "x = 'C'\n",
    "b = x.lower()\n",
    "print('변환:', b)"
   ]
  },
  {
   "cell_type": "code",
   "execution_count": 10,
   "id": "7dc4ef3a-8ca6-4518-b87d-7d6ba965d9b7",
   "metadata": {},
   "outputs": [
    {
     "name": "stdout",
     "output_type": "stream",
     "text": [
      "10\n",
      "20\n",
      "30\n",
      "10\n",
      "20\n",
      "30\n"
     ]
    }
   ],
   "source": [
    "# 136\n",
    "# 다음 코드를 for문으로 작성하라.\n",
    "\n",
    "x = 10    # => 2. 변하는 부분은 변수에 바인팅하고, for문에서 기술.\n",
    "print(x)\n",
    "x = 20\n",
    "print(x)\n",
    "x = 30\n",
    "print(x)\n",
    "\n",
    "for x in [10, 20, 30] :    \n",
    "    print(x)    # => 1. 반복되는 거 먼저 빼서 들여쓰기로 표현\n"
   ]
  },
  {
   "cell_type": "code",
   "execution_count": 11,
   "id": "085ad0d6-b256-43b2-b044-4a83a8710429",
   "metadata": {},
   "outputs": [
    {
     "name": "stdout",
     "output_type": "stream",
     "text": [
      "10\n",
      "20\n",
      "30\n",
      "10\n",
      "20\n",
      "30\n"
     ]
    }
   ],
   "source": [
    "# 137\n",
    "# 다음 코드를 for문으로 작성하라.\n",
    "\n",
    "print(10)\n",
    "print(20)\n",
    "print(30)\n",
    "\n",
    "#공통인 부분 => print()\n",
    "#변하는 부분 10, 20, 30\n",
    "\n",
    "for x in [10, 20, 30]:\n",
    "    print(x)"
   ]
  },
  {
   "cell_type": "code",
   "execution_count": 14,
   "id": "3f92e8ac-d86d-492a-8791-42e1a579b37a",
   "metadata": {},
   "outputs": [
    {
     "name": "stdout",
     "output_type": "stream",
     "text": [
      "10\n",
      "-------\n",
      "20\n",
      "-------\n",
      "30\n",
      "-------\n",
      "10\n",
      "-------\n",
      "20\n",
      "-------\n",
      "30\n",
      "-------\n"
     ]
    }
   ],
   "source": [
    "# 138\n",
    "# 다음 코드를 for문으로 작성하라.\n",
    "\n",
    "print(10)\n",
    "print(\"-------\")\n",
    "print(20)\n",
    "print(\"-------\")\n",
    "print(30)\n",
    "print(\"-------\")\n",
    "\n",
    "# 변하지 않는 부분 print(),print('-------')\n",
    "# 변하는 부분 10, 20, 30 => 변수에 바인딩\n",
    "\n",
    "for x in [10, 20, 30]:\n",
    "    print(x)\n",
    "    print('-------')"
   ]
  },
  {
   "cell_type": "code",
   "execution_count": 15,
   "id": "33cf49fb-ad46-48cc-b0cf-ae67fdbb385f",
   "metadata": {},
   "outputs": [
    {
     "name": "stdout",
     "output_type": "stream",
     "text": [
      "++++\n",
      "10\n",
      "20\n",
      "30\n",
      "++++\n",
      "10\n",
      "20\n",
      "30\n"
     ]
    }
   ],
   "source": [
    "# 139\n",
    "# 다음 코드를 for문으로 작성하라.\n",
    "\n",
    "print(\"++++\")\n",
    "print(10)\n",
    "print(20)\n",
    "print(30)\n",
    "\n",
    "print('++++')\n",
    "for x in [10, 20, 30]:\n",
    "    print(x)"
   ]
  },
  {
   "cell_type": "code",
   "execution_count": 17,
   "id": "09c560ab-8770-478d-9de4-32f642a2dc8f",
   "metadata": {},
   "outputs": [
    {
     "name": "stdout",
     "output_type": "stream",
     "text": [
      "-------\n",
      "-------\n",
      "-------\n",
      "-------\n",
      "-------\n",
      "-------\n",
      "-------\n"
     ]
    }
   ],
   "source": [
    "# 140\n",
    "# 다음 코드를 for문으로 작성하라.\n",
    "\n",
    "print(\"-------\")\n",
    "print(\"-------\")\n",
    "print(\"-------\")\n",
    "print(\"-------\")\n",
    "\n",
    "# 변하지 않는 부분 print(\"-------\")\n",
    "# 변하는 부분 ... ?\n",
    "# for문은 들여쓰기된 코드가 자료구조의 데이터 개수만큼 반복된다\n",
    "#   => 4번 반복. 즉, 자료구조의 데이터가 4개 있다는 말\n",
    "\n",
    "for x in range(3):\n",
    "    print('-------')"
   ]
  },
  {
   "cell_type": "code",
   "execution_count": 20,
   "id": "c7fceec1-9924-4c42-bcd3-fa8b7ba32125",
   "metadata": {},
   "outputs": [
    {
     "name": "stdout",
     "output_type": "stream",
     "text": [
      "110\n",
      "210\n",
      "310\n"
     ]
    }
   ],
   "source": [
    "# 141\n",
    "# 다음과 같이 판매가가 저장된 리스트가 있을 때 부가세가 포함된 가격을 for 문을 사용해서 화면에 출력하라. 단 부가세는 10원으로 가정한다.\n",
    "\n",
    "# 리스트 = [100, 200, 300]\n",
    "# 110\n",
    "# 210\n",
    "# 310\n",
    "\n",
    "# 변하지 않는 부분 => print(), 100, 200, 300\n",
    "\n",
    "my_list = [100, 200, 300]\n",
    "for x in my_list:\n",
    "    x = x + 10\n",
    "    print(x)"
   ]
  },
  {
   "cell_type": "code",
   "execution_count": 21,
   "id": "71a6b08b-8954-4f8e-bd74-8c4405cb2b56",
   "metadata": {},
   "outputs": [
    {
     "name": "stdout",
     "output_type": "stream",
     "text": [
      "오늘의 메뉴: 김밥\n",
      "오늘의 메뉴: 라면\n",
      "오늘의 메뉴: 튀김\n"
     ]
    }
   ],
   "source": [
    "# 142\n",
    "# for 문을 사용해서 리스트에 저장된 값을 다음과 같이 출력하라.\n",
    "\n",
    "# 리스트 = [\"김밥\", \"라면\", \"튀김\"]\n",
    "# 오늘의 메뉴: 김밥\n",
    "# 오늘의 메뉴: 라면\n",
    "# 오늘의 메뉴: 튀김\n",
    "\n",
    "my_list = [\"김밥\", \"라면\", \"튀김\"]\n",
    "\n",
    "for x in my_list:\n",
    "    print('오늘의 메뉴:', x)"
   ]
  },
  {
   "cell_type": "code",
   "execution_count": 22,
   "id": "47e6e653-ea32-4fcf-ad1b-90c1db388faa",
   "metadata": {},
   "outputs": [
    {
     "name": "stdout",
     "output_type": "stream",
     "text": [
      "6\n",
      "4\n",
      "4\n"
     ]
    }
   ],
   "source": [
    "# 143\n",
    "# 리스트에 주식 종목이름이 저장돼 있다.\n",
    "\n",
    "# 리스트 = [\"SK하이닉스\", \"삼성전자\", \"LG전자\"]\n",
    "# 저장된 문자열의 길이를 다음과 같이 출력하라.\n",
    "\n",
    "# 6\n",
    "# 4\n",
    "# 4\n",
    "\n",
    "my_list = [\"SK하이닉스\", \"삼성전자\", \"LG전자\"]\n",
    "for x in my_list:\n",
    "    print(len(x))"
   ]
  },
  {
   "cell_type": "code",
   "execution_count": 24,
   "id": "c5bc60f4-05ac-4e42-b7e7-fcee67d1b21e",
   "metadata": {},
   "outputs": [
    {
     "name": "stdout",
     "output_type": "stream",
     "text": [
      "dog 3\n",
      "cat 3\n",
      "parrot 6\n"
     ]
    }
   ],
   "source": [
    "# 144\n",
    "# 리스트에는 동물이름이 문자열로 저장돼 있다.\n",
    "\n",
    "# 리스트 = ['dog', 'cat', 'parrot']\n",
    "# 동물 이름과 글자수를 다음과 같이 출력하라.\n",
    "\n",
    "# dog 3\n",
    "# cat 3\n",
    "# parrot 6\n",
    "\n",
    "my_list = ['dog', 'cat', 'parrot']\n",
    "for x in my_list:\n",
    "    print(x, len(x))"
   ]
  },
  {
   "cell_type": "code",
   "execution_count": 25,
   "id": "a96827e3-b05f-4aa6-95ba-4243bd0302f2",
   "metadata": {},
   "outputs": [
    {
     "name": "stdout",
     "output_type": "stream",
     "text": [
      "d\n",
      "c\n",
      "p\n"
     ]
    }
   ],
   "source": [
    "# 145\n",
    "# 리스트에 동물 이름 저장돼 있다.\n",
    "\n",
    "# 리스트 = ['dog', 'cat', 'parrot']\n",
    "# for문을 사용해서 동물 이름의 첫 글자만 출력하라.\n",
    "\n",
    "# d\n",
    "# c\n",
    "# p\n",
    "my_list = ['dog', 'cat', 'parrot']\n",
    "for x in my_list:\n",
    "    print(x[0])"
   ]
  },
  {
   "cell_type": "code",
   "execution_count": 26,
   "id": "7a150154-18fd-4129-94ae-b0af94e05176",
   "metadata": {},
   "outputs": [
    {
     "name": "stdout",
     "output_type": "stream",
     "text": [
      "3 X 1\n",
      "3 X 2\n",
      "3 X 3\n"
     ]
    }
   ],
   "source": [
    "# 146\n",
    "# 리스트에는 세 개의 숫자가 바인딩돼 있다.\n",
    "\n",
    "# 리스트 = [1, 2, 3]\n",
    "# for문을 사용해서 다음과 같이 출력하라.\n",
    "\n",
    "# 3 x 1\n",
    "# 3 x 2\n",
    "# 3 x 3\n",
    "\n",
    "my_list = [1, 2, 3]\n",
    "for x in my_list:\n",
    "    print('3 X', x)"
   ]
  },
  {
   "cell_type": "code",
   "execution_count": 27,
   "id": "939d0f0f-77a6-4256-8628-7acc1a08cad2",
   "metadata": {},
   "outputs": [
    {
     "name": "stdout",
     "output_type": "stream",
     "text": [
      "3 X 1 = 3\n",
      "3 X 2 = 6\n",
      "3 X 3 = 9\n"
     ]
    }
   ],
   "source": [
    "# 147\n",
    "# 리스트에는 세 개의 숫자가 바인딩돼 있다.\n",
    "\n",
    "# 리스트 = [1, 2, 3]\n",
    "# for문을 사용해서 다음과 같이 출력하라.\n",
    "\n",
    "# 3 x 1 = 3\n",
    "# 3 x 2 = 6\n",
    "# 3 x 3 = 9\n",
    "\n",
    "my_list = [1, 2, 3]\n",
    "for x in my_list:\n",
    "    print('3 X', x, '=', 3 * x)"
   ]
  },
  {
   "cell_type": "code",
   "execution_count": 29,
   "id": "680c005b-8ff8-4a83-bae6-3bef177df4ed",
   "metadata": {},
   "outputs": [
    {
     "name": "stdout",
     "output_type": "stream",
     "text": [
      "나\n",
      "다\n",
      "라\n"
     ]
    }
   ],
   "source": [
    "# 148\n",
    "# 리스트에는 네 개의 문자열이 바인딩돼 있다.\n",
    "\n",
    "# 리스트 = [\"가\", \"나\", \"다\", \"라\"]\n",
    "# for문을 사용해서 다음과 같이 출력하라.\n",
    "\n",
    "# 나\n",
    "# 다\n",
    "# 라\n",
    "\n",
    "my_list = [\"가\", \"나\", \"다\", \"라\"]\n",
    "for x in my_list[1:]:\n",
    "    print(x)"
   ]
  },
  {
   "cell_type": "code",
   "execution_count": 30,
   "id": "d291e392-9008-4a5d-9dfe-9ba8e8f57237",
   "metadata": {},
   "outputs": [
    {
     "name": "stdout",
     "output_type": "stream",
     "text": [
      "가\n",
      "다\n"
     ]
    }
   ],
   "source": [
    "# 149\n",
    "# 리스트에는 네 개의 문자열이 바인딩돼 있다.\n",
    "\n",
    "# 리스트 = [\"가\", \"나\", \"다\", \"라\"]\n",
    "# for문을 사용해서 다음과 같이 출력하라.\n",
    "\n",
    "# 가\n",
    "# 다\n",
    "\n",
    "my_list = [\"가\", \"나\", \"다\", \"라\"]\n",
    "for x in my_list[::2]:\n",
    "        print(x)"
   ]
  },
  {
   "cell_type": "code",
   "execution_count": 31,
   "id": "61c46f9c-345d-4ac2-965a-5d5e6a6b8fbf",
   "metadata": {},
   "outputs": [
    {
     "name": "stdout",
     "output_type": "stream",
     "text": [
      "라\n",
      "다\n",
      "나\n",
      "가\n"
     ]
    }
   ],
   "source": [
    "# # 150\n",
    "# 리스트에는 네 개의 문자열이 바인딩돼 있다.\n",
    "\n",
    "# 리스트 = [\"가\", \"나\", \"다\", \"라\"]\n",
    "# for문을 사용해서 다음과 같이 출력하라.\n",
    "\n",
    "# 라\n",
    "# 다\n",
    "# 나\n",
    "# 가\n",
    "\n",
    "my_list = [\"가\", \"나\", \"다\", \"라\"]\n",
    "for x in my_list[::-1]:\n",
    "    print(x)\n"
   ]
  },
  {
   "cell_type": "code",
   "execution_count": 1,
   "id": "e866fddd-bce2-4cb8-a76a-a492c41202e1",
   "metadata": {},
   "outputs": [
    {
     "name": "stdout",
     "output_type": "stream",
     "text": [
      "-20\n",
      "-3\n"
     ]
    }
   ],
   "source": [
    "# 151\n",
    "# 리스트에는 네 개의 정수가 저장돼 있다.\n",
    "# for문을 사용해서 리스트의 음수를 출력하라.\n",
    "\n",
    "my_list = [3, -20, -3, 44]\n",
    "for x in my_list:\n",
    "    if x < 0:\n",
    "        print(x)"
   ]
  },
  {
   "cell_type": "code",
   "execution_count": 2,
   "id": "b7a9651c-280d-43d6-bd86-1f27e4889688",
   "metadata": {},
   "outputs": [
    {
     "name": "stdout",
     "output_type": "stream",
     "text": [
      "3\n"
     ]
    }
   ],
   "source": [
    "# 152\n",
    "# for문을 사용해서 3의 배수만을 출력하라.\n",
    "\n",
    "my_list = [3, 100, 23, 44]\n",
    "for x in my_list:\n",
    "    if x % 3 == 0:\n",
    "        print(x)"
   ]
  },
  {
   "cell_type": "code",
   "execution_count": 6,
   "id": "d791c101-a9e7-4df1-8efa-9bd7e224168f",
   "metadata": {},
   "outputs": [
    {
     "name": "stdout",
     "output_type": "stream",
     "text": [
      "12\n",
      "18\n"
     ]
    }
   ],
   "source": [
    "# 153\n",
    "# 리스트에서 20 보다 작은 3의 배수를 출력하라\n",
    "\n",
    "my_list = [13, 21, 12, 14, 30, 18]\n",
    "for x in my_list:\n",
    "    if (x % 3 == 0) and (x < 20):\n",
    "        print(x)"
   ]
  },
  {
   "cell_type": "code",
   "execution_count": 7,
   "id": "1c638b7c-4ce1-4d46-a128-fc73ab9b5bc0",
   "metadata": {},
   "outputs": [
    {
     "name": "stdout",
     "output_type": "stream",
     "text": [
      "study\n",
      "python\n",
      "language\n"
     ]
    }
   ],
   "source": [
    "# 154\n",
    "# 리스트에서 세 글자 이상의 문자를 화면에 출력하라\n",
    "\n",
    "my_list = [\"I\", \"study\", \"python\", \"language\", \"!\"]\n",
    "for x in my_list:\n",
    "    if len(x) >= 3:\n",
    "        print(x)"
   ]
  },
  {
   "cell_type": "code",
   "execution_count": 8,
   "id": "8eb62816-488b-4014-90a7-64a9c80855fb",
   "metadata": {},
   "outputs": [
    {
     "name": "stdout",
     "output_type": "stream",
     "text": [
      "A\n",
      "D\n"
     ]
    }
   ],
   "source": [
    "# 155\n",
    "# 리스트에서 대문자만 화면에 출력하라.\n",
    "\n",
    "my_list = [\"A\", \"b\", \"c\", \"D\"]\n",
    "for x in my_list:\n",
    "    if x.isupper():\n",
    "        print(x)"
   ]
  },
  {
   "cell_type": "code",
   "execution_count": 9,
   "id": "3abc919b-a991-441f-b96a-ec6f8e723353",
   "metadata": {},
   "outputs": [
    {
     "name": "stdout",
     "output_type": "stream",
     "text": [
      "b\n",
      "c\n"
     ]
    }
   ],
   "source": [
    "# 156\n",
    "# 리스트에서 소문자만 화면에 출력하라.\n",
    "\n",
    "my_list = [\"A\", \"b\", \"c\", \"D\"]\n",
    "for x in my_list:\n",
    "    if x.islower():\n",
    "        print(x)"
   ]
  },
  {
   "cell_type": "code",
   "execution_count": 14,
   "id": "9758b50a-d624-459c-9e6f-ed089b9a32e2",
   "metadata": {},
   "outputs": [
    {
     "name": "stdout",
     "output_type": "stream",
     "text": [
      "Dog\n",
      "Cat\n",
      "Parrot\n"
     ]
    }
   ],
   "source": [
    "# 157\n",
    "# 이름의 첫 글자를 대문자로 변경해서 출력하라.\n",
    "\n",
    "my_list = ['dog', 'cat', 'parrot']\n",
    "for x in my_list:\n",
    "    x = x[0].upper() + x[1:]\n",
    "    print(x)"
   ]
  },
  {
   "cell_type": "code",
   "execution_count": 18,
   "id": "b6b00c92-103e-4e48-954f-9cb436c158ff",
   "metadata": {},
   "outputs": [
    {
     "name": "stdout",
     "output_type": "stream",
     "text": [
      "hello\n",
      "ex01\n",
      "intro\n"
     ]
    }
   ],
   "source": [
    "# 158\n",
    "# 파일 이름이 저장된 리스트에서 확장자를 제거하고 파일 이름만 화면에 출력하라. (힌트: split() 메서드)\n",
    "\n",
    "my_list = ['hello.py', 'ex01.py', 'intro.hwp']\n",
    "for x in my_list:\n",
    "    x = x.split('.')\n",
    "    print(x[0])"
   ]
  },
  {
   "cell_type": "code",
   "execution_count": 21,
   "id": "aacc06a3-4c45-4ec6-b6e4-9b8874d73adf",
   "metadata": {},
   "outputs": [
    {
     "name": "stdout",
     "output_type": "stream",
     "text": [
      "intra.h\n",
      "define.h\n"
     ]
    }
   ],
   "source": [
    "# 159\n",
    "# 파일 이름이 저장된 리스트에서 확장자가 .h인 파일 이름을 출력하라.\n",
    "\n",
    "my_list = ['intra.h', 'intra.c', 'define.h', 'run.py']\n",
    "for x in my_list:\n",
    "    x = x.split('.')\n",
    "    if x[1] == 'h':\n",
    "        print('.'.join(x))"
   ]
  },
  {
   "cell_type": "code",
   "execution_count": 26,
   "id": "a6860a63-2576-4e11-b8a4-f016a0109043",
   "metadata": {},
   "outputs": [
    {
     "name": "stdout",
     "output_type": "stream",
     "text": [
      "intra.h\n",
      "intra.c\n",
      "define.h\n"
     ]
    }
   ],
   "source": [
    "# 160\n",
    "# 파일 이름이 저장된 리스트에서 확장자가 .h나 .c인 파일을 화면에 출력하라.\n",
    "\n",
    "my_list = ['intra.h', 'intra.c', 'define.h', 'run.py']\n",
    "for x in my_list:\n",
    "    split = x.split('.')\n",
    "    if split[1] == 'h' or split[1] == 'c':\n",
    "        print(x)"
   ]
  },
  {
   "cell_type": "code",
   "execution_count": null,
   "id": "6ca41dc2-1b10-4d11-b3e6-ef3d46f39b3f",
   "metadata": {},
   "outputs": [],
   "source": []
  }
 ],
 "metadata": {
  "kernelspec": {
   "display_name": "Python 3 (ipykernel)",
   "language": "python",
   "name": "python3"
  },
  "language_info": {
   "codemirror_mode": {
    "name": "ipython",
    "version": 3
   },
   "file_extension": ".py",
   "mimetype": "text/x-python",
   "name": "python",
   "nbconvert_exporter": "python",
   "pygments_lexer": "ipython3",
   "version": "3.11.6"
  }
 },
 "nbformat": 4,
 "nbformat_minor": 5
}
