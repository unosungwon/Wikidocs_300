{
 "cells": [
  {
   "cell_type": "code",
   "execution_count": 1,
   "id": "bf1ed058-2096-418c-97df-381e7ca709c0",
   "metadata": {},
   "outputs": [],
   "source": [
    "# 251 클래스, 객체, 인스턴스\n",
    "# 클래스와 객체에 대해 설명해봅시다.\n"
   ]
  },
  {
   "cell_type": "code",
   "execution_count": 2,
   "id": "5c33be30-7c8c-42fc-b032-4cdedc7d56b5",
   "metadata": {},
   "outputs": [],
   "source": [
    "# 252 클래스 정의\n",
    "# 비어있는 사람 (Human) 클래스를 \"정의\" 해보세요.\n",
    "\n",
    "class Human:\n",
    "    pass"
   ]
  },
  {
   "cell_type": "code",
   "execution_count": 3,
   "id": "d448e7eb-cb73-4046-8c05-776c2118e00f",
   "metadata": {},
   "outputs": [],
   "source": [
    "# 253 인스턴스 생성\n",
    "# 사람 (Human) 클래스의 인스턴스를 \"생성\" 하고 이를 areum 변수로 바인딩해보세요.\n",
    "\n",
    "class Human:\n",
    "    pass\n",
    "    \n",
    "areum = Human()"
   ]
  },
  {
   "cell_type": "code",
   "execution_count": 4,
   "id": "a4e3b496-510b-427f-894a-a3a107c877ad",
   "metadata": {},
   "outputs": [
    {
     "name": "stdout",
     "output_type": "stream",
     "text": [
      "응애응애\n"
     ]
    }
   ],
   "source": [
    "# 254 클래스 생성자-1\n",
    "# 사람 (Human) 클래스에 \"응애응애\"를 출력하는 생성자를 추가하세요.\n",
    "\n",
    "# >>> areum = Human()\n",
    "# 응애응애\n",
    "\n",
    "class Human:\n",
    "    def __init__(self):\n",
    "        print('응애응애')\n",
    "\n",
    "areum = Human()"
   ]
  },
  {
   "cell_type": "code",
   "execution_count": 15,
   "id": "c21b5c42-7b3d-42b2-ba30-9048b3c84f6e",
   "metadata": {},
   "outputs": [
    {
     "data": {
      "text/plain": [
       "'아름'"
      ]
     },
     "execution_count": 15,
     "metadata": {},
     "output_type": "execute_result"
    }
   ],
   "source": [
    "# 255 클래스 생성자-2\n",
    "# 사람 (Human) 클래스에 (이름, 나이, 성별)을 받는 생성자를 추가하세요.\n",
    "\n",
    "# >>> areum = Human(\"아름\", 25, \"여자\")\n",
    "\n",
    "class Human:\n",
    "    def __init__(self, name, age, gender):\n",
    "        self.name = name\n",
    "        self.age = age\n",
    "        self.gender = gender\n",
    "\n",
    "areum = Human(\"아름\", 25, \"여자\")\n",
    "areum.name"
   ]
  },
  {
   "cell_type": "code",
   "execution_count": 16,
   "id": "e44865c0-3da9-47b1-9ef2-c9ad58a58b77",
   "metadata": {},
   "outputs": [
    {
     "name": "stdout",
     "output_type": "stream",
     "text": [
      "이름: 아름, 나이: 25, 성별: 여자\n"
     ]
    }
   ],
   "source": [
    "# 256 인스턴스 속성에 접근\n",
    "# 255에서 생성한 인스턴스의 이름, 나이, 성별을 출력하세요. \n",
    "# 인스턴스 변수에 접근하여 값을 출력하면 됩니다.\n",
    "\n",
    "# 이름: 조아름, 나이: 25, 성별: 여자\n",
    "# 인스턴스 변수에 접근하여 값을 가져오는 예\n",
    "\n",
    "# >>> areum.age\n",
    "# 25\n",
    "\n",
    "areum = Human(\"아름\", 25, \"여자\")\n",
    "print(f'이름: {areum.name}, 나이: {areum.age}, 성별: {areum.gender}')"
   ]
  },
  {
   "cell_type": "code",
   "execution_count": 19,
   "id": "7b94f106-9b73-4d3d-9d46-2ac9d5287741",
   "metadata": {},
   "outputs": [
    {
     "name": "stdout",
     "output_type": "stream",
     "text": [
      "이름: 아름, 나이: 25, 성별: 여자\n"
     ]
    }
   ],
   "source": [
    "# 257 클래스 메소드 - 1\n",
    "# 사람 (Human) 클래스에서 이름, 나이, 성별을 출력하는 who() 메소드를 추가하세요.\n",
    "\n",
    "# >>> areum.who()\n",
    "# 이름: 조아름, 나이: 25, 성별: 여자\n",
    "\n",
    "class Human:\n",
    "    def __init__(self, name, age, gender):\n",
    "        self.name = name\n",
    "        self.age = age\n",
    "        self.gender = gender\n",
    "        \n",
    "    def who(self):\n",
    "        print(f'이름: {self.name}, 나이: {self.age}, 성별: {self.gender}')\n",
    "\n",
    "areum = Human('아름', 25, '여자')\n",
    "areum.who()"
   ]
  },
  {
   "cell_type": "code",
   "execution_count": 21,
   "id": "a0827879-bd7e-49a5-984d-b64d742c72ad",
   "metadata": {},
   "outputs": [],
   "source": [
    "# 258 클래스 메소드 - 2\n",
    "# 사람 (Human) 클래스에 (이름, 나이, 성별)을 받는 setInfo 메소드를 추가하세요.\n",
    "\n",
    "# >>> areum = Human(\"모름\", 0, \"모름\")\n",
    "# >>> areum.setInfo(\"아름\", 25, \"여자\")\n",
    "\n",
    "class Human:\n",
    "    def __init__(self, name, age, gender):\n",
    "        self.name = name\n",
    "        self.age = age\n",
    "        self.gender = gender\n",
    "        \n",
    "    def who(self):\n",
    "        print(f'이름: {self.name}, 나이: {self.age}, 성별: {self.gender}')\n",
    "        \n",
    "    def setInfo(self, name, age, gender):\n",
    "        self.name = name\n",
    "        self.age = age\n",
    "        self.gender = gender\n",
    "\n",
    "areum = Human('아름', 25, '여자')\n",
    "areum.setInfo('아름', 25, '여자')"
   ]
  },
  {
   "cell_type": "code",
   "execution_count": 23,
   "id": "cffc155b-9332-4557-b7b1-a5ed8370ccfb",
   "metadata": {},
   "outputs": [
    {
     "name": "stdout",
     "output_type": "stream",
     "text": [
      "나의 죽음을 알리지 마라\n"
     ]
    }
   ],
   "source": [
    "# 259 클래스 소멸자\n",
    "# 사람 (human) 클래스에 \"나의 죽음을 알리지 말라\"를 출력하는 소멸자를 추가하세요.\n",
    "\n",
    "# >>> areum = Human(\"아름\", 25, \"여자\")\n",
    "# >>> del areum\n",
    "# 나의 죽음을 알리지 말라\n",
    "\n",
    "class Human:\n",
    "    def __init__(self, name, age, gender):\n",
    "        self.name = name\n",
    "        self.age = age\n",
    "        self.gender = gender\n",
    "\n",
    "    def __del__(self):\n",
    "        print('나의 죽음을 알리지 마라')\n",
    "        \n",
    "    def who(self):\n",
    "        print(f'이름: {self.name}, 나이: {self.age}, 성별: {self.gender}')\n",
    "        \n",
    "    def setInfo(self, name, age, gender):\n",
    "        self.name = name\n",
    "        self.age = age\n",
    "        self.gender = gender\n",
    "\n",
    "areum = Human('아름', 25, '여자')\n",
    "del(areum)"
   ]
  },
  {
   "cell_type": "code",
   "execution_count": null,
   "id": "0fddfef8-0be0-4b75-b0a3-9e65ae4969b5",
   "metadata": {},
   "outputs": [],
   "source": []
  }
 ],
 "metadata": {
  "kernelspec": {
   "display_name": "Python 3 (ipykernel)",
   "language": "python",
   "name": "python3"
  },
  "language_info": {
   "codemirror_mode": {
    "name": "ipython",
    "version": 3
   },
   "file_extension": ".py",
   "mimetype": "text/x-python",
   "name": "python",
   "nbconvert_exporter": "python",
   "pygments_lexer": "ipython3",
   "version": "3.11.6"
  }
 },
 "nbformat": 4,
 "nbformat_minor": 5
}
