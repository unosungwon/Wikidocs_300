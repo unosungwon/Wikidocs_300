{
 "cells": [
  {
   "cell_type": "code",
   "execution_count": 1,
   "id": "3ba83a5f-e36b-4752-9f18-69d922b87ce7",
   "metadata": {},
   "outputs": [
    {
     "data": {
      "text/plain": [
       "['dr.strange', 'split', 'lucky']"
      ]
     },
     "execution_count": 1,
     "metadata": {},
     "output_type": "execute_result"
    }
   ],
   "source": [
    "# 51\n",
    "# 2016년 11월 영화 예매 순위 기준 top3는 다음과 같습니다. \n",
    "# 영화 제목을 movie_rank 이름의 리스트에 저장해보세요. (순위 정보는 저장하지 않습니다.)\n",
    "\n",
    "# 순위\t영화\n",
    "# 1\t닥터 스트레인지\n",
    "# 2\t스플릿\n",
    "# 3\t럭키\n",
    "\n",
    "movie_rank = ['dr.strange', 'split', 'lucky']\n",
    "movie_rank"
   ]
  },
  {
   "cell_type": "code",
   "execution_count": 2,
   "id": "1f44f3aa-47e6-46a5-b023-13d718bb18f5",
   "metadata": {},
   "outputs": [
    {
     "data": {
      "text/plain": [
       "['dr.strange', 'split', 'lucky', 'batmen']"
      ]
     },
     "execution_count": 2,
     "metadata": {},
     "output_type": "execute_result"
    }
   ],
   "source": [
    "# 52\n",
    "# 051의 movie_rank 리스트에 \"배트맨\"을 추가하라.\n",
    "\n",
    "movie_rank.append('batmen')\n",
    "movie_rank"
   ]
  },
  {
   "cell_type": "markdown",
   "id": "653c93a6-9b55-4368-8c93-3dfe2f49efb3",
   "metadata": {},
   "source": [
    "## a.insert(index, x)\n",
    "- 리스트 a의 index 에 x 값을 넣겠다."
   ]
  },
  {
   "cell_type": "code",
   "execution_count": 3,
   "id": "eb5224f5-42d0-49ba-b20e-390747b98a53",
   "metadata": {},
   "outputs": [
    {
     "data": {
      "text/plain": [
       "['dr.strange', 'superman', 'split', 'lucky', 'batmen']"
      ]
     },
     "execution_count": 3,
     "metadata": {},
     "output_type": "execute_result"
    }
   ],
   "source": [
    "# 53\n",
    "# movie_rank 리스트에는 아래와 같이 네 개의 영화 제목이 바인딩되어 있다.\n",
    "# \"슈퍼맨\"을 \"닥터 스트레인지\"와 \"스플릿\" 사이에 추가하라.\n",
    "# movie_rank = ['dr.strange', 'split', 'lucky', 'batmen']\n",
    "\n",
    "movie_rank = ['dr.strange', 'split', 'lucky', 'batmen']\n",
    "movie_rank.insert(1, 'superman')\n",
    "movie_rank"
   ]
  },
  {
   "cell_type": "markdown",
   "id": "c60784ad-dd18-4bc4-a278-9fa35521907c",
   "metadata": {},
   "source": [
    "## a.remove(x) , del a[index]\n",
    "- remove 는 인자 하나만 받을 수 있음.\n",
    "- del 은 a의 index를 지정해서 삭제 가능. "
   ]
  },
  {
   "cell_type": "code",
   "execution_count": 4,
   "id": "cb7659f6-80d4-41f6-a929-f4dcab3e28a6",
   "metadata": {},
   "outputs": [
    {
     "data": {
      "text/plain": [
       "['dr.strange', 'superman', 'split']"
      ]
     },
     "execution_count": 4,
     "metadata": {},
     "output_type": "execute_result"
    }
   ],
   "source": [
    "# 54\n",
    "# movie_rank 리스트에서 '럭키'를 삭제하라.\n",
    "movie_rank = ['dr.strange', 'superman', 'split', 'lucky', 'batmen']\n",
    "\n",
    "movie_rank.remove('lucky')\n",
    "movie_rank\n",
    "\n",
    "del movie_rank[3]\n",
    "movie_rank"
   ]
  },
  {
   "cell_type": "code",
   "execution_count": 5,
   "id": "5afa2fa8-14d9-4fb4-b902-c26b1be1c097",
   "metadata": {},
   "outputs": [
    {
     "name": "stdout",
     "output_type": "stream",
     "text": [
      "['dr.strange', 'superman', 'lucky']\n"
     ]
    }
   ],
   "source": [
    "# 55\n",
    "# movie_rank 리스트에서 '스플릿' 과 '배트맨'을 를 삭제하라.\n",
    "movie_rank = ['dr.strange', 'superman', 'split', 'lucky', 'batmen']\n",
    "\n",
    "movie_rank.remove('split')\n",
    "del movie_rank[3]\n",
    "print(movie_rank)"
   ]
  },
  {
   "cell_type": "markdown",
   "id": "cb9a7385-83d3-4ef3-9ef3-17eeaa1dc779",
   "metadata": {},
   "source": [
    "## iterable 가능한 요소들은 + 로 붙일 수 있음. \n",
    "- 'abc' + 'def' => 'abcdef'\n",
    "- ['a', 'b', 'c'] + ['d', 'e', 'f'] => ['a', 'b', 'c', 'd', 'e', 'f']"
   ]
  },
  {
   "cell_type": "code",
   "execution_count": 6,
   "id": "75b210b3-92e2-44f8-a91d-592f11b5d193",
   "metadata": {},
   "outputs": [
    {
     "data": {
      "text/plain": [
       "['C', 'C++', 'JAVA', 'Python', 'Go', 'C#']"
      ]
     },
     "execution_count": 6,
     "metadata": {},
     "output_type": "execute_result"
    }
   ],
   "source": [
    "# 56\n",
    "# lang1과 lang2 리스트가 있을 때 lang1과 lang2의 원소를 모두 갖고 있는 langs 리스트를 만들어라.\n",
    "lang1 = [\"C\", \"C++\", \"JAVA\"]\n",
    "lang2 = [\"Python\", \"Go\", \"C#\"]\n",
    "\n",
    "langs = lang1 + lang2\n",
    "langs"
   ]
  },
  {
   "cell_type": "code",
   "execution_count": 7,
   "id": "3cee0532-38c1-47d3-9b2f-aeb2bcb31132",
   "metadata": {},
   "outputs": [
    {
     "name": "stdout",
     "output_type": "stream",
     "text": [
      "max: 7\n",
      "min: 1\n"
     ]
    }
   ],
   "source": [
    "# 57\n",
    "# 다음 리스트에서 최댓값과 최솟값을 출력하라. (힌트: min(), max() 함수 사용)\n",
    "# nums = [1, 2, 3, 4, 5, 6, 7]\n",
    "# 실행 예:\n",
    "# max:  7\n",
    "# min:  1\n",
    "\n",
    "nums = [1, 2, 3, 4, 5, 6, 7]\n",
    "print(f'max: {max(nums)}\\nmin: {min(nums)}')"
   ]
  },
  {
   "cell_type": "code",
   "execution_count": 8,
   "id": "9460053a-1a36-4d21-8213-798fb1b116f8",
   "metadata": {},
   "outputs": [
    {
     "data": {
      "text/plain": [
       "15"
      ]
     },
     "execution_count": 8,
     "metadata": {},
     "output_type": "execute_result"
    }
   ],
   "source": [
    "# 58\n",
    "# 다음 리스트의 합을 출력하라.\n",
    "\n",
    "# nums = [1, 2, 3, 4, 5]\n",
    "# 실행 예:\n",
    "# 15\n",
    "\n",
    "nums = [1, 2, 3, 4, 5]\n",
    "sum(nums)"
   ]
  },
  {
   "cell_type": "code",
   "execution_count": 9,
   "id": "243e0565-66f4-4abb-85f5-3470ea4bfa63",
   "metadata": {},
   "outputs": [
    {
     "data": {
      "text/plain": [
       "12"
      ]
     },
     "execution_count": 9,
     "metadata": {},
     "output_type": "execute_result"
    }
   ],
   "source": [
    "# 059\n",
    "# 다음 리스트에 저장된 데이터의 개수를 화면에 구하하라.\n",
    "\n",
    "cook = [\"피자\", \"김밥\", \"만두\", \"양념치킨\", \"족발\", \"피자\", \"김치만두\", \"쫄면\", \"소시지\", \"라면\", \"팥빙수\", \"김치전\"]\n",
    "len(cook)"
   ]
  },
  {
   "cell_type": "code",
   "execution_count": 10,
   "id": "ab76891d-ef66-432a-a981-0027922b49e5",
   "metadata": {},
   "outputs": [
    {
     "data": {
      "text/plain": [
       "3.0"
      ]
     },
     "execution_count": 10,
     "metadata": {},
     "output_type": "execute_result"
    }
   ],
   "source": [
    "# 060\n",
    "# 다음 리스트의 평균을 출력하라.\n",
    "# nums = [1, 2, 3, 4, 5]\n",
    "# 실행 예:\n",
    "# 3.0\n",
    "\n",
    "nums = [1, 2, 3, 4, 5]\n",
    "sum(nums) / len(nums)"
   ]
  },
  {
   "cell_type": "code",
   "execution_count": 11,
   "id": "e81e321f-9599-42d4-bfaf-8f5fa92ae5ae",
   "metadata": {},
   "outputs": [
    {
     "data": {
      "text/plain": [
       "[100, 130, 140, 150, 160, 170]"
      ]
     },
     "execution_count": 11,
     "metadata": {},
     "output_type": "execute_result"
    }
   ],
   "source": [
    "# 061\n",
    "# price 변수에는 날짜와 종가 정보가 저장돼 있다. 날짜 정보를 제외하고 가격 정보만을 출력하라.\n",
    "# (힌트 : 슬라이싱)\n",
    "\n",
    "# price = ['20180728', 100, 130, 140, 150, 160, 170]\n",
    "# 출력 예시:\n",
    "# [100, 130, 140, 150, 160, 170]\n",
    "\n",
    "price = ['20180728', 100, 130, 140, 150, 160, 170]\n",
    "price[1:]"
   ]
  },
  {
   "cell_type": "code",
   "execution_count": 12,
   "id": "6ead27c9-ef6a-46ab-b8ec-338d3168fec9",
   "metadata": {},
   "outputs": [
    {
     "data": {
      "text/plain": [
       "[1, 3, 5, 7, 9]"
      ]
     },
     "execution_count": 12,
     "metadata": {},
     "output_type": "execute_result"
    }
   ],
   "source": [
    "# 062\n",
    "# 슬라이싱을 사용해서 홀수만 출력하라.\n",
    "\n",
    "# nums = [1, 2, 3, 4, 5, 6, 7, 8, 9, 10]\n",
    "# 실행 예:\n",
    "# [1, 3, 5, 7, 9]\n",
    "\n",
    "nums = [1, 2, 3, 4, 5, 6, 7, 8, 9, 10]\n",
    "nums[::2]"
   ]
  },
  {
   "cell_type": "code",
   "execution_count": 13,
   "id": "7b427b0a-ec66-457c-8c4a-26eb6b71960d",
   "metadata": {},
   "outputs": [
    {
     "data": {
      "text/plain": [
       "[2, 4, 6, 8, 10]"
      ]
     },
     "execution_count": 13,
     "metadata": {},
     "output_type": "execute_result"
    }
   ],
   "source": [
    "# 063\n",
    "# 슬라이싱을 사용해서 짝수만 출력하라.\n",
    "\n",
    "nums = [1, 2, 3, 4, 5, 6, 7, 8, 9, 10]\n",
    "nums[1::2]"
   ]
  },
  {
   "cell_type": "code",
   "execution_count": 14,
   "id": "0b432c93-9584-4f07-b23a-461f64bdd2ec",
   "metadata": {},
   "outputs": [
    {
     "data": {
      "text/plain": [
       "[5, 4, 3, 2, 1]"
      ]
     },
     "execution_count": 14,
     "metadata": {},
     "output_type": "execute_result"
    }
   ],
   "source": [
    "# 064\n",
    "# 슬라이싱을 사용해서 리스트의 숫자를 역 방향으로 출력하라.\n",
    "\n",
    "# nums = [1, 2, 3, 4, 5]\n",
    "# 실행 예:\n",
    "# [5, 4, 3, 2, 1]\n",
    "\n",
    "nums = [1, 2, 3, 4, 5]\n",
    "nums[::-1]"
   ]
  },
  {
   "cell_type": "code",
   "execution_count": 15,
   "id": "007b4b3f-aedf-4dd8-930b-a9101da782b3",
   "metadata": {},
   "outputs": [
    {
     "name": "stdout",
     "output_type": "stream",
     "text": [
      "['samsung', 'Naver']\n",
      "samsung Naver\n"
     ]
    }
   ],
   "source": [
    "# 065\n",
    "# interest 리스트에는 아래의 데이터가 바인딩되어 있다.\n",
    "\n",
    "# interest = ['samsung', 'LG', 'Naver']\n",
    "# interest 리스트를 사용하여 아래와 같이 화면에 출력하라.\n",
    "\n",
    "# 출력 예시:\n",
    "# samsung Naver\n",
    "\n",
    "interest = ['samsung', 'LG', 'Naver']\n",
    "print(interest[::2])\n",
    "print(interest[0], interest[2])"
   ]
  },
  {
   "cell_type": "code",
   "execution_count": 16,
   "id": "e788235b-c562-4840-a66a-ad9dd138e91d",
   "metadata": {},
   "outputs": [
    {
     "data": {
      "text/plain": [
       "'samsung LG Naver SK mirae_asset'"
      ]
     },
     "execution_count": 16,
     "metadata": {},
     "output_type": "execute_result"
    }
   ],
   "source": [
    "# 066 join 메서드\n",
    "# interest 리스트에는 아래의 데이터가 바인딩되어 있다.\n",
    "\n",
    "# interest = ['samsung', 'LG', 'Naver', 'SK', 'mirae_asset']\n",
    "# interest 리스트를 사용하여 아래와 같이 화면에 출력하라.\n",
    "\n",
    "# 출력 예시:\n",
    "# samsung LG Naver SK mirae_asset\n",
    "\n",
    "interest = ['samsung', 'LG', 'Naver', 'SK', 'mirae_asset']\n",
    "' '.join(interest)"
   ]
  },
  {
   "cell_type": "code",
   "execution_count": 17,
   "id": "a62d100b-f09f-4919-af93-2c8818ec49b4",
   "metadata": {},
   "outputs": [
    {
     "data": {
      "text/plain": [
       "'samsung/LG/Naver/SK/mirae_asset'"
      ]
     },
     "execution_count": 17,
     "metadata": {},
     "output_type": "execute_result"
    }
   ],
   "source": [
    "# 067 join 메서드\n",
    "# interest 리스트에는 아래의 데이터가 바인딩되어 있다.\n",
    "\n",
    "# interest = ['samsung', 'LG', 'Naver', 'SK', 'mirae_asset']\n",
    "# interest 리스트를 사용하여 아래와 같이 화면에 출력하라.\n",
    "\n",
    "# 출력 예시:\n",
    "# samsung/LG/Naver/SK/mirae_asset\n",
    "\n",
    "interest = ['samsung', 'LG', 'Naver', 'SK', 'mirae_asset']\n",
    "'/'.join(interest)"
   ]
  },
  {
   "cell_type": "markdown",
   "id": "890657b9-ff43-40ea-a613-8dc7570978bd",
   "metadata": {},
   "source": [
    "## ''join(리스트인 변수)\n",
    "- '\\n'.join(interest) => 'samsung\\nLG\\nNaver\\nSK\\nmirae_asset'\n",
    "- print('\\n'.join(interest)) \n",
    "=> samsung\n",
    "LG\n",
    "Naver\n",
    "SK\n",
    "mirae_asset"
   ]
  },
  {
   "cell_type": "code",
   "execution_count": 18,
   "id": "5f13cae3-c4ad-4ad4-b72b-e08c599c2144",
   "metadata": {},
   "outputs": [
    {
     "name": "stdout",
     "output_type": "stream",
     "text": [
      "samsung\n",
      "LG\n",
      "Naver\n",
      "SK\n",
      "mirae_asset\n"
     ]
    }
   ],
   "source": [
    "# # 68\n",
    "# join() 메서드를 사용해서 interest 리스트를 아래와 같이 화면에 출력하라.\n",
    "\n",
    "# 출력 예시:\n",
    "# samsung\n",
    "# LG\n",
    "# Naver\n",
    "# SK\n",
    "# mirae_asset\n",
    "\n",
    "interest = ['samsung', 'LG', 'Naver', 'SK', 'mirae_asset']\n",
    "print('\\n'.join(interest))"
   ]
  },
  {
   "cell_type": "code",
   "execution_count": 19,
   "id": "e00f43a0-e4e6-48ac-a319-bb577ff829f6",
   "metadata": {},
   "outputs": [
    {
     "name": "stdout",
     "output_type": "stream",
     "text": [
      "['samsung', 'LG', 'Naver']\n"
     ]
    }
   ],
   "source": [
    "# 069 문자열 split 메서드\n",
    "# 회사 이름이 슬래시 ('/')로 구분되어 하나의 문자열로 저장되어 있다.\n",
    "\n",
    "# string = \"samsung/LG/Naver\"\n",
    "# 이를 interest 이름의 리스트로 분리 저장하라.\n",
    "\n",
    "# 실행 예시\n",
    "# >> print(interest)\n",
    "# ['samsung', 'LG', 'Naver']\n",
    "\n",
    "string = \"samsung/LG/Naver\"\n",
    "interest = string.split('/')\n",
    "print(interest)"
   ]
  },
  {
   "cell_type": "markdown",
   "id": "8ae41a6f-3001-48b0-b6ad-e2e5bb393efe",
   "metadata": {},
   "source": [
    "## 리스트.sort()  vs  sorted(리스트)\n",
    "- data.sort( ) => return 값 없음. 원본 변경\n",
    "- sorted(data) => return 값 있음. 원본 미변경"
   ]
  },
  {
   "cell_type": "code",
   "execution_count": 20,
   "id": "532e7fa8-245e-4c19-9df9-73016fcf4dc6",
   "metadata": {},
   "outputs": [
    {
     "name": "stdout",
     "output_type": "stream",
     "text": [
      "[1, 2, 3, 4, 5, 9, 10]\n",
      "[1, 2, 3, 4, 5, 9, 10]\n"
     ]
    }
   ],
   "source": [
    "# 070 리스트 정렬\n",
    "# 리스트에 있는 값을 오름차순으로 정렬하세요.\n",
    "\n",
    "data = [2, 4, 3, 1, 5, 10, 9]\n",
    "data.sort()\n",
    "print(data)\n",
    "\n",
    "data = [2, 4, 3, 1, 5, 10, 9]\n",
    "new_data = sorted(data)\n",
    "print(new_data)"
   ]
  }
 ],
 "metadata": {
  "kernelspec": {
   "display_name": "Python 3 (ipykernel)",
   "language": "python",
   "name": "python3"
  },
  "language_info": {
   "codemirror_mode": {
    "name": "ipython",
    "version": 3
   },
   "file_extension": ".py",
   "mimetype": "text/x-python",
   "name": "python",
   "nbconvert_exporter": "python",
   "pygments_lexer": "ipython3",
   "version": "3.11.6"
  }
 },
 "nbformat": 4,
 "nbformat_minor": 5
}
