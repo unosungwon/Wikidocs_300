{
 "cells": [
  {
   "cell_type": "code",
   "execution_count": 1,
   "id": "63312898-5b6a-4253-8728-0139d65144d9",
   "metadata": {},
   "outputs": [
    {
     "name": "stdout",
     "output_type": "stream",
     "text": [
      "() <class 'tuple'>\n"
     ]
    }
   ],
   "source": [
    "# 071\n",
    "# my_variable 이름의 비어있는 튜플을 만들라.\n",
    "\n",
    "my_variable = ()\n",
    "print(my_variable, type(my_variable))"
   ]
  },
  {
   "cell_type": "code",
   "execution_count": 2,
   "id": "9eea288f-1985-473d-8beb-690e148e3871",
   "metadata": {},
   "outputs": [
    {
     "data": {
      "text/plain": [
       "('Dr.Strange', 'Split', 'Lucky')"
      ]
     },
     "execution_count": 2,
     "metadata": {},
     "output_type": "execute_result"
    }
   ],
   "source": [
    "# 072\n",
    "# 2016년 11월 영화 예매 순위 기준 top3는 다음과 같다. \n",
    "# 영화 제목을 movie_rank 이름의 튜플에 저장하라. (순위 정보는 저장하지 않는다.)\n",
    "\n",
    "# 순위\t영화\n",
    "# 1\tDr.Strange\n",
    "# 2\tSplit\n",
    "# 3\tLucky\n",
    "\n",
    "movie_rank = ('Dr.Strange', 'Split', 'Lucky')\n",
    "movie_rank"
   ]
  },
  {
   "cell_type": "markdown",
   "id": "f9616c98-0abc-4d07-b329-52ec24a5095c",
   "metadata": {},
   "source": [
    "## tuple 에 원소 하나만 넣으면 type : 튜플이 안됨. \n",
    "- list는 a[0] = 6 이런식으로 원소 값 변경 가능\n",
    "- string 원소 변경 안됨.\n",
    "- tuple 도 원소 변경 안됨.\n",
    "#### \n",
    "- 'a', 'b' -> ('a', 'b') => tuple 로 나옴\n",
    "- print('a', 'b') => a b"
   ]
  },
  {
   "cell_type": "code",
   "execution_count": 3,
   "id": "c716a657-873b-470d-8d97-d79675c5275d",
   "metadata": {},
   "outputs": [
    {
     "name": "stdout",
     "output_type": "stream",
     "text": [
      "(1,) <class 'tuple'>\n"
     ]
    }
   ],
   "source": [
    "# 073\n",
    "# 숫자 1 이 저장된 튜플을 생성하라.\n",
    "\n",
    "my_tuple = (1, )\n",
    "print(my_tuple, type(my_tuple))"
   ]
  },
  {
   "cell_type": "code",
   "execution_count": 4,
   "id": "c9fcb2f4-9e7b-49c5-87a0-66a7f40e3a0d",
   "metadata": {},
   "outputs": [
    {
     "ename": "SyntaxError",
     "evalue": "invalid syntax. Perhaps you forgot a comma? (1390108484.py, line 7)",
     "output_type": "error",
     "traceback": [
      "\u001b[1;36m  Cell \u001b[1;32mIn[4], line 7\u001b[1;36m\u001b[0m\n\u001b[1;33m    Traceback (most recent call last):\u001b[0m\n\u001b[1;37m               ^\u001b[0m\n\u001b[1;31mSyntaxError\u001b[0m\u001b[1;31m:\u001b[0m invalid syntax. Perhaps you forgot a comma?\n"
     ]
    }
   ],
   "source": [
    "# 074\n",
    "# 다음 코드를 실행해보고 오류가 발생하는 원인을 설명하라.\n",
    "\n",
    "t = (1, 2, 3)\n",
    "t[0] = 'a'\n",
    "\n",
    "Traceback (most recent call last):\n",
    "File \"<pyshell#46>\", line 1, in <module>\n",
    "t[0] = 'a'\n",
    "TypeError: 'tuple' object does not support item assignment"
   ]
  },
  {
   "cell_type": "code",
   "execution_count": 5,
   "id": "00255474-ec93-42d2-914f-422ea1a99002",
   "metadata": {},
   "outputs": [
    {
     "data": {
      "text/plain": [
       "tuple"
      ]
     },
     "execution_count": 5,
     "metadata": {},
     "output_type": "execute_result"
    }
   ],
   "source": [
    "# 075\n",
    "# 아래와 같이 t에는 1, 2, 3, 4 데이터가 바인딩되어 있다. t가 바인딩하는 데이터 타입은 무엇인가?\n",
    "\n",
    "t = 1, 2, 3, 4\n",
    "type(t)"
   ]
  },
  {
   "cell_type": "code",
   "execution_count": 6,
   "id": "c4d3c85f-22ef-4921-bef8-a5548e6a22d9",
   "metadata": {},
   "outputs": [
    {
     "data": {
      "text/plain": [
       "('A', 'b', 'c')"
      ]
     },
     "execution_count": 6,
     "metadata": {},
     "output_type": "execute_result"
    }
   ],
   "source": [
    "# 076\n",
    "# 변수 t에는 아래와 같은 값이 저장되어 있다. \n",
    "# 변수 t가 ('A', 'b', 'c') 튜플을 가리키도록 수정 하라.\n",
    "\n",
    "t = ('a', 'b', 'c')\n",
    "t = ('A', 'b', 'c')\n",
    "t"
   ]
  },
  {
   "cell_type": "code",
   "execution_count": 7,
   "id": "f7c8527c-7c9c-41e0-9ffd-d9a2837922ec",
   "metadata": {},
   "outputs": [
    {
     "data": {
      "text/plain": [
       "['samsung', 'LG', 'SK Hynix']"
      ]
     },
     "execution_count": 7,
     "metadata": {},
     "output_type": "execute_result"
    }
   ],
   "source": [
    "# 77.\n",
    "# 다음 튜플을 리스트로 변환하라.\n",
    "\n",
    "interest = ('samsung', 'LG', 'SK Hynix')\n",
    "list(interest)"
   ]
  },
  {
   "cell_type": "code",
   "execution_count": 8,
   "id": "483f439d-bdfb-4faa-b26c-639b158417d0",
   "metadata": {},
   "outputs": [
    {
     "data": {
      "text/plain": [
       "('samsung', 'LG', 'SK Hynix')"
      ]
     },
     "execution_count": 8,
     "metadata": {},
     "output_type": "execute_result"
    }
   ],
   "source": [
    "# 078\n",
    "# 다음 리스트를 튜플로 변경하라.\n",
    "\n",
    "interest = ['samsung', 'LG', 'SK Hynix']\n",
    "tuple(interest)"
   ]
  },
  {
   "cell_type": "markdown",
   "id": "8aae8a17-13ec-4830-910f-a72716fea863",
   "metadata": {},
   "source": [
    "## tuple, list, string, dictionary 언팩킹 가능\n",
    "1. tuple unpacking\n",
    "\n",
    "    temp = ('apple', 'banana', 'cake')\n",
    "\n",
    "    a, b, c = temp\n",
    "\n",
    "2. list unpacking\n",
    "\n",
    "    my_list = [1, 2, 3]\n",
    "\n",
    "    a, b, c = my_list\n",
    "\n",
    "3. string unpacking\n",
    "\n",
    "    my_str = 'Hello'\n",
    "\n",
    "    a, b, c, d, e = my_str\n",
    "\n",
    "4. dictionary unpacking\n",
    "\n",
    "    my_dict = {'a' : 1, 'b' : 2, 'c' : 3}\n",
    "\n",
    "    my_dict.items()  => [('a', 1), ('b', 2), ('c', 3)]\n",
    "\n",
    "    my_dict.keys() => ['a', 'b', 'c']\n",
    "\n",
    "    my_dict.values() => [1, 2, 3]"
   ]
  },
  {
   "cell_type": "code",
   "execution_count": 9,
   "id": "dc078370-44a4-49be-893e-7463bca6a8a7",
   "metadata": {},
   "outputs": [
    {
     "name": "stdout",
     "output_type": "stream",
     "text": [
      "apple banana cake\n"
     ]
    }
   ],
   "source": [
    "# 079 튜플 언팩킹\n",
    "# 다음 코드의 실행 결과를 예상하라.\n",
    "\n",
    "temp = ('apple', 'banana', 'cake')\n",
    "a, b, c = temp\n",
    "print(a, b, c)"
   ]
  },
  {
   "cell_type": "markdown",
   "id": "e772889c-ba26-4f9f-8a26-bf19df994be3",
   "metadata": {},
   "source": [
    "## range( )\n",
    "- range( )는 범위여서 int 와 산수 불가능\n",
    "- int(range( )) 도 안됨. => int() 의 요소는 string 이어야 함. 범위가 되면 안됨.\n",
    "- list(range( )) 가능.\n",
    "- tuple(range( )) 가능."
   ]
  },
  {
   "cell_type": "code",
   "execution_count": 10,
   "id": "810776eb-d067-49dd-b227-7bd570443974",
   "metadata": {},
   "outputs": [
    {
     "name": "stdout",
     "output_type": "stream",
     "text": [
      "(2, 4, 6, 8, 10, 12, 14, 16, 18, 20, 22, 24, 26, 28, 30, 32, 34, 36, 38, 40, 42, 44, 46, 48, 50, 52, 54, 56, 58, 60, 62, 64, 66, 68, 70, 72, 74, 76, 78, 80, 82, 84, 86, 88, 90, 92, 94, 96, 98)\n"
     ]
    }
   ],
   "source": [
    "# 080 range 함수\n",
    "# 1 부터 99까지의 정수 중 짝수만 저장된 튜플을 생성하라.\n",
    "\n",
    "# (2, 4, 6, 8 ... 98)\n",
    "\n",
    "print(tuple(range(2, 100, 2)))"
   ]
  }
 ],
 "metadata": {
  "kernelspec": {
   "display_name": "Python 3 (ipykernel)",
   "language": "python",
   "name": "python3"
  },
  "language_info": {
   "codemirror_mode": {
    "name": "ipython",
    "version": 3
   },
   "file_extension": ".py",
   "mimetype": "text/x-python",
   "name": "python",
   "nbconvert_exporter": "python",
   "pygments_lexer": "ipython3",
   "version": "3.11.6"
  }
 },
 "nbformat": 4,
 "nbformat_minor": 5
}
