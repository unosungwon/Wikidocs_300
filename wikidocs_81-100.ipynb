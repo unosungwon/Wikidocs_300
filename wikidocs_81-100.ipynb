{
 "cells": [
  {
   "cell_type": "markdown",
   "id": "44ded1b0-50eb-4054-a760-53a84d6e94ec",
   "metadata": {},
   "source": [
    "## 데이터 언팩킹 '*'\n",
    "기본적으로 `데이터 언패킹`은 좌변의 변수와 우변 데이터 개수가 같아야 합니다. 하지만 `star expression`을 사용하면 `변수의 개수가 달라도 데이터 언패킹`을 할 수 있습니다. 튜플에 저장된 데이터 중에서 앞에 있는 두 개의 데이터만 필요할 경우 나머지 데이터의 언패킹 코드를 작성할 필요가 없습니다.\n",
    "\n",
    "> a, b, *c = (0, 1, 2, 3, 4, 5)\n",
    ">\n",
    "> a => 0\n",
    ">\n",
    "> b => 1\n",
    ">\n",
    "> c => [2, 3, 4, 5]"
   ]
  },
  {
   "cell_type": "code",
   "execution_count": 1,
   "id": "d48a5ac3-0f4e-4cf4-a323-a72254bbf915",
   "metadata": {},
   "outputs": [
    {
     "data": {
      "text/plain": [
       "[8.8, 8.9, 8.7, 9.2, 9.3, 9.7, 9.9, 9.5]"
      ]
     },
     "execution_count": 1,
     "metadata": {},
     "output_type": "execute_result"
    }
   ],
   "source": [
    "# 81\n",
    "# 다음과 같이 10개의 값이 저장된 scores 리스트가 있을 때, \n",
    "# start expression을 사용하여 좌측 8개의 값을 valid_score 변수에 바인딩하여라.\n",
    "\n",
    "scores = [8.8, 8.9, 8.7, 9.2, 9.3, 9.7, 9.9, 9.5, 7.8, 9.4]\n",
    "*a, b, c = scores\n",
    "valid_scores = a\n",
    "valid_scores"
   ]
  },
  {
   "cell_type": "code",
   "execution_count": 2,
   "id": "f4d9baa1-50b3-4dee-a0ef-30d88adce4a3",
   "metadata": {},
   "outputs": [
    {
     "name": "stdout",
     "output_type": "stream",
     "text": [
      "[8.8, 8.9, 8.7, 9.2, 9.3, 9.7, 9.9, 9.5]\n"
     ]
    }
   ],
   "source": [
    "# 81 -1\n",
    "\n",
    "scores = [8.8, 8.9, 8.7, 9.2, 9.3, 9.7, 9.9, 9.5, 7.8, 9.4]\n",
    "*valid_scores, _, _ = scores\n",
    "print(valid_scores)"
   ]
  },
  {
   "cell_type": "code",
   "execution_count": 3,
   "id": "27c903e8-9291-41ac-9152-6df014accb19",
   "metadata": {},
   "outputs": [
    {
     "data": {
      "text/plain": [
       "[8.7, 9.2, 9.3, 9.7, 9.9, 9.5, 7.8, 9.4]"
      ]
     },
     "execution_count": 3,
     "metadata": {},
     "output_type": "execute_result"
    }
   ],
   "source": [
    "# 082\n",
    "# 다음과 같이 10개의 값이 저장된 scores 리스트가 있을 때, \n",
    "# start expression을 사용하여 우측 8개의 값을 valid_score 변수에 바인딩하여라.\n",
    "\n",
    "scores = [8.8, 8.9, 8.7, 9.2, 9.3, 9.7, 9.9, 9.5, 7.8, 9.4]\n",
    "a, b, *valid_scores = scores\n",
    "valid_scores"
   ]
  },
  {
   "cell_type": "code",
   "execution_count": 4,
   "id": "8c5f68b0-5445-40d5-add3-19362912a293",
   "metadata": {},
   "outputs": [
    {
     "data": {
      "text/plain": [
       "[8.9, 8.7, 9.2, 9.3, 9.7, 9.9, 9.5, 7.8]"
      ]
     },
     "execution_count": 4,
     "metadata": {},
     "output_type": "execute_result"
    }
   ],
   "source": [
    "# 083\n",
    "# 다음과 같이 10개의 값이 저장된 scores 리스트가 있을 때, \n",
    "# start expression을 사용하여 가운데 있는 8개의 값을 valid_score 변수에 바인딩하여라.\n",
    "\n",
    "scores = [8.8, 8.9, 8.7, 9.2, 9.3, 9.7, 9.9, 9.5, 7.8, 9.4]\n",
    "_, *valid_scores, _ = scores\n",
    "valid_scores"
   ]
  },
  {
   "cell_type": "code",
   "execution_count": 5,
   "id": "049fed0e-ca2c-42b3-bfca-8b491ef76ce5",
   "metadata": {},
   "outputs": [],
   "source": [
    "# 084 비어있는 딕셔너리\n",
    "# temp 이름의 비어있는 딕셔너리를 만들라.\n",
    "\n",
    "temp = {}"
   ]
  },
  {
   "cell_type": "code",
   "execution_count": 6,
   "id": "579d41e1-6b83-4975-bb63-15df38a5931e",
   "metadata": {},
   "outputs": [
    {
     "name": "stdout",
     "output_type": "stream",
     "text": [
      "{'melona': 1000, 'polapo': 1200, 'pangpare': 1800}\n"
     ]
    }
   ],
   "source": [
    "# 085\n",
    "# 다음 아이스크림 이름과 희망 가격을 딕셔너리로 구성하라.\n",
    "\n",
    "# 이름\t희망 가격\n",
    "# 메로나\t1000\n",
    "# 폴라포\t1200\n",
    "# 빵빠레\t1800\n",
    "\n",
    "icecream = {'melona' : 1000, 'polapo' : 1200, 'pangpare' : 1800}\n",
    "print(icecream)"
   ]
  },
  {
   "cell_type": "code",
   "execution_count": 7,
   "id": "472b78be-f696-482d-b11c-fee8d61a1a32",
   "metadata": {},
   "outputs": [
    {
     "data": {
      "text/plain": [
       "{'melona': 1000, 'polapo': 1200, 'pangpare': 1800, 'jaws': 1200, 'world': 1500}"
      ]
     },
     "execution_count": 7,
     "metadata": {},
     "output_type": "execute_result"
    }
   ],
   "source": [
    "# 086\n",
    "# 085 번의 딕셔너리에 아래 아이스크림 가격정보를 추가하라.\n",
    "\n",
    "# 이름\t희망 가격\n",
    "# 죠스바\t1200\n",
    "# 월드콘\t1500\n",
    "\n",
    "icecream['jaws'] = 1200\n",
    "icecream['world'] = 1500\n",
    "icecream"
   ]
  },
  {
   "cell_type": "markdown",
   "id": "36fc4c15-9ffd-45b6-8c07-7004e70c2cc6",
   "metadata": {},
   "source": [
    "## dictionary f-string \n",
    "- print(f ' melona price: {icecream['melona'] } ' )  => ' ] } ' 오류\n",
    "- print(f \" melona price: {icecream['melona'] } \" )  => f-string \" 으로 변경"
   ]
  },
  {
   "cell_type": "code",
   "execution_count": 8,
   "id": "79b0bdb9-09cb-4cc1-baca-617b7541c63e",
   "metadata": {},
   "outputs": [
    {
     "name": "stdout",
     "output_type": "stream",
     "text": [
      "melona price: 1000\n",
      "melona price: 1000\n"
     ]
    }
   ],
   "source": [
    "# 087\n",
    "# 다음 딕셔너리를 사용하여 메로나 가격을 출력하라.\n",
    "# 실행 예:\n",
    "# 메로나 가격: 1000\n",
    "\n",
    "print(f\"melona price: {icecream['melona']}\")\n",
    "print('melona price:', icecream['melona'] )"
   ]
  },
  {
   "cell_type": "code",
   "execution_count": 9,
   "id": "9bd54cca-245a-49ed-b2a1-b640b59f0700",
   "metadata": {},
   "outputs": [
    {
     "data": {
      "text/plain": [
       "{'melona': 1300, 'polapo': 1200, 'pangpare': 1800, 'jaws': 1200, 'world': 1500}"
      ]
     },
     "execution_count": 9,
     "metadata": {},
     "output_type": "execute_result"
    }
   ],
   "source": [
    "# 088\n",
    "# 다음 딕셔너리에서 메로나의 가격을 1300으로 수정하라.\n",
    "\n",
    "icecream['melona'] = 1300\n",
    "icecream"
   ]
  },
  {
   "cell_type": "markdown",
   "id": "6c66a2e2-6461-4472-a5ef-ea68292d400f",
   "metadata": {},
   "source": [
    "## dictionary 삭제\n",
    "- dictionary 삭제 방법 (mutable) => `dict.pop(key) // del dict[key]`\n",
    "- list 삭제 방법 (mutable) => `list.remove(요소) // del list(요소)`\n",
    "- string 삭제 방법 (immutable) => `string.replace(없앨 요소, 바꿀 요소)`\n",
    "\n",
    "   => immutable. 한번 생성되면 수정할 수 없다는 뜻."
   ]
  },
  {
   "cell_type": "code",
   "execution_count": 10,
   "id": "65b2179c-6bc1-4651-a2f7-3584eb0e69c0",
   "metadata": {},
   "outputs": [
    {
     "data": {
      "text/plain": [
       "'ac'"
      ]
     },
     "execution_count": 10,
     "metadata": {},
     "output_type": "execute_result"
    }
   ],
   "source": [
    "a = 'abc'\n",
    "d = a.replace('b', '')\n",
    "d"
   ]
  },
  {
   "cell_type": "code",
   "execution_count": 11,
   "id": "2ce57ce2-1d03-4136-869f-9aa873644640",
   "metadata": {},
   "outputs": [
    {
     "data": {
      "text/plain": [
       "{'polapo': 1200, 'pangpare': 1800, 'jaws': 1200, 'world': 1500}"
      ]
     },
     "execution_count": 11,
     "metadata": {},
     "output_type": "execute_result"
    }
   ],
   "source": [
    "# 089\n",
    "# 다음 딕셔너리에서 메로나를 삭제하라.\n",
    "icecream = {'melona': 1000, 'polapo': 1200, 'pangpare': 1800, 'jaws': 1200, 'world': 1500}\n",
    "icecream.pop('melona')\n",
    "icecream\n",
    "\n",
    "# 혹은 del icecream['melona']"
   ]
  },
  {
   "cell_type": "code",
   "execution_count": 12,
   "id": "38b466f3-a8cf-4bad-b2d1-dd105172e978",
   "metadata": {},
   "outputs": [
    {
     "ename": "KeyError",
     "evalue": "'누가바'",
     "output_type": "error",
     "traceback": [
      "\u001b[1;31m---------------------------------------------------------------------------\u001b[0m",
      "\u001b[1;31mKeyError\u001b[0m                                  Traceback (most recent call last)",
      "Cell \u001b[1;32mIn[12], line 5\u001b[0m\n\u001b[0;32m      1\u001b[0m \u001b[38;5;66;03m# 090\u001b[39;00m\n\u001b[0;32m      2\u001b[0m \u001b[38;5;66;03m# 다음 코드에서 에러가 발생한 원인을 설명하라.\u001b[39;00m\n\u001b[0;32m      4\u001b[0m icecream \u001b[38;5;241m=\u001b[39m {\u001b[38;5;124m'\u001b[39m\u001b[38;5;124m폴라포\u001b[39m\u001b[38;5;124m'\u001b[39m: \u001b[38;5;241m1200\u001b[39m, \u001b[38;5;124m'\u001b[39m\u001b[38;5;124m빵빠레\u001b[39m\u001b[38;5;124m'\u001b[39m: \u001b[38;5;241m1800\u001b[39m, \u001b[38;5;124m'\u001b[39m\u001b[38;5;124m월드콘\u001b[39m\u001b[38;5;124m'\u001b[39m: \u001b[38;5;241m1500\u001b[39m, \u001b[38;5;124m'\u001b[39m\u001b[38;5;124m메로나\u001b[39m\u001b[38;5;124m'\u001b[39m: \u001b[38;5;241m1000\u001b[39m}\n\u001b[1;32m----> 5\u001b[0m \u001b[43micecream\u001b[49m\u001b[43m[\u001b[49m\u001b[38;5;124;43m'\u001b[39;49m\u001b[38;5;124;43m누가바\u001b[39;49m\u001b[38;5;124;43m'\u001b[39;49m\u001b[43m]\u001b[49m\n",
      "\u001b[1;31mKeyError\u001b[0m: '누가바'"
     ]
    }
   ],
   "source": [
    "# 090\n",
    "# 다음 코드에서 에러가 발생한 원인을 설명하라.\n",
    "\n",
    "icecream = {'폴라포': 1200, '빵빠레': 1800, '월드콘': 1500, '메로나': 1000}\n",
    "icecream['누가바']"
   ]
  },
  {
   "cell_type": "code",
   "execution_count": null,
   "id": "150b0048-fabc-4ef6-b564-b93f6eed1f9e",
   "metadata": {},
   "outputs": [],
   "source": [
    "# 091 딕셔너리 생성\n",
    "# 아래의 표에서, 아이스크림 이름을 키값으로, (가격, 재고) 리스트를 딕셔너리의 값으로 저장하라. \n",
    "# 딕셔너리의 이름은 inventory로 한다.\n",
    "\n",
    "# 이름\t가격\t재고\n",
    "# 메로나\t300\t20\n",
    "# 비비빅\t400\t3\n",
    "# 죠스바\t250\t100\n",
    "\n",
    "inventory = {'melona' : [300, 20] , \n",
    "             'bibibig' : [400, 3] , \n",
    "             'jaws' : [250, 100]}\n",
    "print(inventory.values())\n",
    "v1, v2, v3 = inventory.values()\n",
    "tuple(v1)"
   ]
  },
  {
   "cell_type": "code",
   "execution_count": null,
   "id": "c268d8bf-5d54-402a-a9a4-bad6a80a56f6",
   "metadata": {},
   "outputs": [],
   "source": [
    "# 092 딕셔너리 인덱싱\n",
    "# inventory 딕셔너리에서 메로나의 가격을 화면에 출력하라.\n",
    "# 실행 예시:\n",
    "# 300 원\n",
    "\n",
    "print(inventory['melona'][0], '원', sep='/')"
   ]
  },
  {
   "cell_type": "code",
   "execution_count": 13,
   "id": "de0f3b31-f3dc-4522-8e26-e6616791d76a",
   "metadata": {},
   "outputs": [
    {
     "ename": "NameError",
     "evalue": "name 'inventory' is not defined",
     "output_type": "error",
     "traceback": [
      "\u001b[1;31m---------------------------------------------------------------------------\u001b[0m",
      "\u001b[1;31mNameError\u001b[0m                                 Traceback (most recent call last)",
      "Cell \u001b[1;32mIn[13], line 4\u001b[0m\n\u001b[0;32m      1\u001b[0m \u001b[38;5;66;03m# 093 딕셔너리 인덱싱\u001b[39;00m\n\u001b[0;32m      2\u001b[0m \u001b[38;5;66;03m# inventory 딕셔너리에서 메로나의 재고를 화면에 출력하라.\u001b[39;00m\n\u001b[1;32m----> 4\u001b[0m \u001b[38;5;28mprint\u001b[39m(\u001b[43minventory\u001b[49m[\u001b[38;5;124m'\u001b[39m\u001b[38;5;124mmelona\u001b[39m\u001b[38;5;124m'\u001b[39m][\u001b[38;5;241m1\u001b[39m], \u001b[38;5;124m'\u001b[39m\u001b[38;5;124m개\u001b[39m\u001b[38;5;124m'\u001b[39m)\n",
      "\u001b[1;31mNameError\u001b[0m: name 'inventory' is not defined"
     ]
    }
   ],
   "source": [
    "# 093 딕셔너리 인덱싱\n",
    "# inventory 딕셔너리에서 메로나의 재고를 화면에 출력하라.\n",
    "\n",
    "print(inventory['melona'][1], '개')"
   ]
  },
  {
   "cell_type": "code",
   "execution_count": 14,
   "id": "05ec45cb-99f6-4f6f-b762-9afb69e050de",
   "metadata": {},
   "outputs": [
    {
     "ename": "NameError",
     "evalue": "name 'inventory' is not defined",
     "output_type": "error",
     "traceback": [
      "\u001b[1;31m---------------------------------------------------------------------------\u001b[0m",
      "\u001b[1;31mNameError\u001b[0m                                 Traceback (most recent call last)",
      "Cell \u001b[1;32mIn[14], line 6\u001b[0m\n\u001b[0;32m      1\u001b[0m \u001b[38;5;66;03m# 094 딕셔너리 추가\u001b[39;00m\n\u001b[0;32m      2\u001b[0m \u001b[38;5;66;03m# inventory 딕셔너리에 아래 데이터를 추가하라.\u001b[39;00m\n\u001b[0;32m      3\u001b[0m \u001b[38;5;66;03m# 이름\t가격\t재고\u001b[39;00m\n\u001b[0;32m      4\u001b[0m \u001b[38;5;66;03m# 월드콘\t500\t7\u001b[39;00m\n\u001b[1;32m----> 6\u001b[0m \u001b[43minventory\u001b[49m[\u001b[38;5;124m'\u001b[39m\u001b[38;5;124mworld\u001b[39m\u001b[38;5;124m'\u001b[39m] \u001b[38;5;241m=\u001b[39m [\u001b[38;5;241m500\u001b[39m, \u001b[38;5;241m7\u001b[39m]\n\u001b[0;32m      7\u001b[0m inventory\n",
      "\u001b[1;31mNameError\u001b[0m: name 'inventory' is not defined"
     ]
    }
   ],
   "source": [
    "# 094 딕셔너리 추가\n",
    "# inventory 딕셔너리에 아래 데이터를 추가하라.\n",
    "# 이름\t가격\t재고\n",
    "# 월드콘\t500\t7\n",
    "\n",
    "inventory['world'] = [500, 7]\n",
    "inventory"
   ]
  },
  {
   "cell_type": "code",
   "execution_count": 15,
   "id": "9bf7f863-9158-4aa2-a661-48a13309c19a",
   "metadata": {},
   "outputs": [
    {
     "data": {
      "text/plain": [
       "dict_keys(['tank', 'polapo', 'pangparae', 'world', 'melona'])"
      ]
     },
     "execution_count": 15,
     "metadata": {},
     "output_type": "execute_result"
    }
   ],
   "source": [
    "# 095 딕셔너리 keys() 메서드\n",
    "# 다음의 딕셔너리로부터 key 값으로만 구성된 리스트를 생성하라.\n",
    "\n",
    "icecream = {'tank': 1200, 'polapo': 1200, 'pangparae': 1800, 'world': 1500, 'melona': 1000}\n",
    "\n",
    "icecream.keys()"
   ]
  },
  {
   "cell_type": "code",
   "execution_count": 16,
   "id": "954936ff-f279-4c20-9f89-a8387688ee88",
   "metadata": {},
   "outputs": [
    {
     "data": {
      "text/plain": [
       "dict_values([1200, 1200, 1800, 1500, 1000])"
      ]
     },
     "execution_count": 16,
     "metadata": {},
     "output_type": "execute_result"
    }
   ],
   "source": [
    "# 096 딕셔너리 values() 메서드\n",
    "# 다음의 딕셔너리에서 values 값으로만 구성된 리스트를 생성하라.\n",
    "\n",
    "icecream = {'tank': 1200, 'polapo': 1200, 'pangparae': 1800, 'world': 1500, 'melona': 1000}\n",
    "\n",
    "icecream.values()"
   ]
  },
  {
   "cell_type": "code",
   "execution_count": 17,
   "id": "d3bf138d-9296-4f7f-9aad-01146cf52145",
   "metadata": {},
   "outputs": [
    {
     "data": {
      "text/plain": [
       "6700"
      ]
     },
     "execution_count": 17,
     "metadata": {},
     "output_type": "execute_result"
    }
   ],
   "source": [
    "# 097 딕셔너리 values() 메서드\n",
    "# icecream 딕셔너리에서 아이스크림 판매 금액의 총합을 출력하라.\n",
    "# 출력 예시:\n",
    "# 6700\n",
    "\n",
    "icecream = {'tank': 1200, 'polapo': 1200, 'pangparae': 1800, 'world': 1500, 'melona': 1000}\n",
    "sum(icecream.values())"
   ]
  },
  {
   "cell_type": "markdown",
   "id": "45f33499-a58e-4420-b705-adb920ae0d1b",
   "metadata": {},
   "source": [
    "## 딕셔너리 형태로 업데이트 가능. \n",
    "dictionary.update(new_dictionary)\n"
   ]
  },
  {
   "cell_type": "code",
   "execution_count": 18,
   "id": "e25184b8-865d-4039-9e2c-42a77397356f",
   "metadata": {},
   "outputs": [
    {
     "data": {
      "text/plain": [
       "{'tank': 1200,\n",
       " 'polapo': 1200,\n",
       " 'pangparae': 1800,\n",
       " 'world': 1500,\n",
       " 'melona': 1000,\n",
       " 'bingsu': 2700,\n",
       " 'matna': 1000}"
      ]
     },
     "execution_count": 18,
     "metadata": {},
     "output_type": "execute_result"
    }
   ],
   "source": [
    "# 098 딕셔너리 update 메서드\n",
    "# 아래의 new_product 딕셔너리를 다음 icecream 딕셔너리에 추가하라.\n",
    "\n",
    "# icecream = {'탱크보이': 1200, '폴라포': 1200, '빵빠레': 1800, '월드콘': 1500, '메로나': 1000}\n",
    "# new_product = {'팥빙수':2700, '아맛나':1000}\n",
    "\n",
    "icecream = {'tank': 1200, 'polapo': 1200, 'pangparae': 1800, 'world': 1500, 'melona': 1000}\n",
    "new_product = {'bingsu' : 2700, 'matna' : 1000}\n",
    "\n",
    "icecream.update(new_product)\n",
    "icecream"
   ]
  },
  {
   "cell_type": "markdown",
   "id": "d826d471-1a91-4bff-9164-e411a0478da9",
   "metadata": {},
   "source": [
    "## dict(zip(key, value)) \n",
    "=> 따로 떨어져 있던 것들을 딕셔너리 형태로 묶기 가능. \n",
    "- list(zip(key, val))  => [(key,val), (key,val) ... ] => tuple 형태로 묶여서 리스트 처리 됨."
   ]
  },
  {
   "cell_type": "code",
   "execution_count": 19,
   "id": "60103b95-696e-4fdd-a46e-089899ad75fc",
   "metadata": {},
   "outputs": [
    {
     "name": "stdout",
     "output_type": "stream",
     "text": [
      "[('apple', 300), ('pear', 250), ('peach', 400)]\n"
     ]
    },
    {
     "data": {
      "text/plain": [
       "{'apple': 300, 'pear': 250, 'peach': 400}"
      ]
     },
     "execution_count": 19,
     "metadata": {},
     "output_type": "execute_result"
    }
   ],
   "source": [
    "# 099 zip과 dict\n",
    "# 아래 두 개의 튜플을 하나의 딕셔너리로 변환하라. \n",
    "# keys를 키로, vals를 값으로 result 이름의 딕셔너리로 저장한다.\n",
    "\n",
    "# 실행 예시:\n",
    "# print(result)\n",
    "# {'apple': 300, 'pear': 250, 'peach': 400}\n",
    "\n",
    "keys = (\"apple\", \"pear\", \"peach\")\n",
    "vals = (300, 250, 400)\n",
    "\n",
    "print(list(zip(keys, vals)))\n",
    "result = dict(zip(keys, vals))\n",
    "result"
   ]
  },
  {
   "cell_type": "code",
   "execution_count": 20,
   "id": "c60396e2-3251-4772-b862-79a41ef932e3",
   "metadata": {},
   "outputs": [
    {
     "data": {
      "text/plain": [
       "{'09/05': 10500,\n",
       " '09/06': 10300,\n",
       " '09/07': 10100,\n",
       " '09/08': 10800,\n",
       " '09/09': 11000}"
      ]
     },
     "execution_count": 20,
     "metadata": {},
     "output_type": "execute_result"
    }
   ],
   "source": [
    "# 100 zip과 dict\n",
    "# date와 close_price 두 개의 리스트를 close_table 이름의 딕셔너리로 생성하라.\n",
    "\n",
    "# 실행 예시:\n",
    "# >> print(close_table)\n",
    "# {'09/05': 10500, '09/06': 10300, '09/07': 10100, '09/08': 10800, '09/09': 11000}\n",
    "\n",
    "date = ['09/05', '09/06', '09/07', '09/08', '09/09']\n",
    "close_price = [10500, 10300, 10100, 10800, 11000]\n",
    "\n",
    "close_table = dict(zip(date, close_price))\n",
    "close_table"
   ]
  }
 ],
 "metadata": {
  "kernelspec": {
   "display_name": "Python 3 (ipykernel)",
   "language": "python",
   "name": "python3"
  },
  "language_info": {
   "codemirror_mode": {
    "name": "ipython",
    "version": 3
   },
   "file_extension": ".py",
   "mimetype": "text/x-python",
   "name": "python",
   "nbconvert_exporter": "python",
   "pygments_lexer": "ipython3",
   "version": "3.11.6"
  }
 },
 "nbformat": 4,
 "nbformat_minor": 5
}
